{
 "cells": [
  {
   "cell_type": "code",
   "execution_count": 1,
   "metadata": {},
   "outputs": [
    {
     "name": "stderr",
     "output_type": "stream",
     "text": [
      "Using TensorFlow backend.\n"
     ]
    }
   ],
   "source": [
    "import keras"
   ]
  },
  {
   "cell_type": "markdown",
   "metadata": {},
   "source": [
    "## 사용할 패키지 불러오기"
   ]
  },
  {
   "cell_type": "code",
   "execution_count": 2,
   "metadata": {},
   "outputs": [],
   "source": [
    "from keras.utils import np_utils"
   ]
  },
  {
   "cell_type": "code",
   "execution_count": 4,
   "metadata": {},
   "outputs": [],
   "source": [
    "from keras.datasets import mnist"
   ]
  },
  {
   "cell_type": "code",
   "execution_count": 5,
   "metadata": {},
   "outputs": [],
   "source": [
    "from keras.models import Sequential"
   ]
  },
  {
   "cell_type": "code",
   "execution_count": 7,
   "metadata": {},
   "outputs": [],
   "source": [
    "from keras.layers import Dense, Activation"
   ]
  },
  {
   "cell_type": "code",
   "execution_count": 8,
   "metadata": {},
   "outputs": [],
   "source": [
    "import numpy as np"
   ]
  },
  {
   "cell_type": "code",
   "execution_count": 10,
   "metadata": {},
   "outputs": [],
   "source": [
    "np.random.seed(3)"
   ]
  },
  {
   "cell_type": "markdown",
   "metadata": {},
   "source": [
    "## 데이터 생성하기"
   ]
  },
  {
   "cell_type": "code",
   "execution_count": 11,
   "metadata": {},
   "outputs": [
    {
     "name": "stdout",
     "output_type": "stream",
     "text": [
      "Downloading data from https://s3.amazonaws.com/img-datasets/mnist.npz\n",
      "11493376/11490434 [==============================] - 18s 2us/step\n"
     ]
    }
   ],
   "source": [
    "(x_train, y_train), (x_test, y_test) = mnist.load_data()"
   ]
  },
  {
   "cell_type": "markdown",
   "metadata": {},
   "source": [
    "## 훈련 세트와 검증 세트 분리"
   ]
  },
  {
   "cell_type": "code",
   "execution_count": 12,
   "metadata": {},
   "outputs": [],
   "source": [
    "x_val = x_train[50000:]"
   ]
  },
  {
   "cell_type": "code",
   "execution_count": 13,
   "metadata": {},
   "outputs": [],
   "source": [
    "y_val = y_train[50000:]"
   ]
  },
  {
   "cell_type": "code",
   "execution_count": 14,
   "metadata": {},
   "outputs": [],
   "source": [
    "x_train = x_train[:50000]"
   ]
  },
  {
   "cell_type": "code",
   "execution_count": 16,
   "metadata": {},
   "outputs": [],
   "source": [
    "y_train = y_train[:50000]"
   ]
  },
  {
   "cell_type": "markdown",
   "metadata": {},
   "source": [
    "## 현재 데이터 세트가 이미지라 uint8로 처리"
   ]
  },
  {
   "cell_type": "code",
   "execution_count": 17,
   "metadata": {},
   "outputs": [
    {
     "data": {
      "text/plain": [
       "(50000, 28, 28)"
      ]
     },
     "execution_count": 17,
     "metadata": {},
     "output_type": "execute_result"
    }
   ],
   "source": [
    "x_train.shape"
   ]
  },
  {
   "cell_type": "code",
   "execution_count": 20,
   "metadata": {},
   "outputs": [
    {
     "data": {
      "text/plain": [
       "dtype('uint8')"
      ]
     },
     "execution_count": 20,
     "metadata": {},
     "output_type": "execute_result"
    }
   ],
   "source": [
    "x_train.dtype"
   ]
  },
  {
   "cell_type": "code",
   "execution_count": 18,
   "metadata": {},
   "outputs": [
    {
     "data": {
      "text/plain": [
       "(50000,)"
      ]
     },
     "execution_count": 18,
     "metadata": {},
     "output_type": "execute_result"
    }
   ],
   "source": [
    "y_train.shape"
   ]
  },
  {
   "cell_type": "code",
   "execution_count": 19,
   "metadata": {},
   "outputs": [
    {
     "data": {
      "text/plain": [
       "dtype('uint8')"
      ]
     },
     "execution_count": 19,
     "metadata": {},
     "output_type": "execute_result"
    }
   ],
   "source": [
    "y_train.dtype"
   ]
  },
  {
   "cell_type": "code",
   "execution_count": null,
   "metadata": {},
   "outputs": [],
   "source": []
  },
  {
   "cell_type": "markdown",
   "metadata": {},
   "source": [
    "## 데이터 세트 전처리\n",
    "\n",
    "- 데이터를 실수로 변경 및 자료형도 변경"
   ]
  },
  {
   "cell_type": "code",
   "execution_count": 21,
   "metadata": {},
   "outputs": [],
   "source": [
    "x_train = x_train.reshape(50000,784).astype('float32') /255"
   ]
  },
  {
   "cell_type": "code",
   "execution_count": 22,
   "metadata": {},
   "outputs": [
    {
     "data": {
      "text/plain": [
       "(50000, 784)"
      ]
     },
     "execution_count": 22,
     "metadata": {},
     "output_type": "execute_result"
    }
   ],
   "source": [
    "x_train.shape"
   ]
  },
  {
   "cell_type": "code",
   "execution_count": 23,
   "metadata": {},
   "outputs": [
    {
     "data": {
      "text/plain": [
       "dtype('float32')"
      ]
     },
     "execution_count": 23,
     "metadata": {},
     "output_type": "execute_result"
    }
   ],
   "source": [
    "x_train.dtype"
   ]
  },
  {
   "cell_type": "code",
   "execution_count": 24,
   "metadata": {},
   "outputs": [],
   "source": [
    "x_val = x_val.reshape(10000, 784).astype('float32') / 255"
   ]
  },
  {
   "cell_type": "code",
   "execution_count": 25,
   "metadata": {},
   "outputs": [],
   "source": [
    "x_test = x_test.reshape(10000,784).astype('float32') / 255"
   ]
  },
  {
   "cell_type": "code",
   "execution_count": null,
   "metadata": {},
   "outputs": [],
   "source": []
  },
  {
   "cell_type": "markdown",
   "metadata": {},
   "source": [
    "## 레이블 원핫인코딩 처리"
   ]
  },
  {
   "cell_type": "code",
   "execution_count": 26,
   "metadata": {},
   "outputs": [],
   "source": [
    "y_train = np_utils.to_categorical(y_train)"
   ]
  },
  {
   "cell_type": "code",
   "execution_count": 27,
   "metadata": {},
   "outputs": [],
   "source": [
    "y_val = np_utils.to_categorical(y_val)"
   ]
  },
  {
   "cell_type": "code",
   "execution_count": 28,
   "metadata": {},
   "outputs": [],
   "source": [
    "y_test = np_utils.to_categorical(y_test)"
   ]
  },
  {
   "cell_type": "markdown",
   "metadata": {},
   "source": [
    "## 모델 구성하기"
   ]
  },
  {
   "cell_type": "code",
   "execution_count": 29,
   "metadata": {},
   "outputs": [],
   "source": [
    "model = Sequential()"
   ]
  },
  {
   "cell_type": "code",
   "execution_count": 31,
   "metadata": {},
   "outputs": [
    {
     "name": "stdout",
     "output_type": "stream",
     "text": [
      "WARNING:tensorflow:From C:\\Users\\dahlmoon\\Anaconda3\\lib\\site-packages\\tensorflow\\python\\framework\\op_def_library.py:263: colocate_with (from tensorflow.python.framework.ops) is deprecated and will be removed in a future version.\n",
      "Instructions for updating:\n",
      "Colocations handled automatically by placer.\n"
     ]
    }
   ],
   "source": [
    "model.add(Dense(units=2, input_dim=784, activation='relu'))"
   ]
  },
  {
   "cell_type": "code",
   "execution_count": 32,
   "metadata": {},
   "outputs": [],
   "source": [
    "model.add(Dense(units=10, activation='softmax'))"
   ]
  },
  {
   "cell_type": "markdown",
   "metadata": {},
   "source": [
    "## 모델 학습과정 설정하기"
   ]
  },
  {
   "cell_type": "code",
   "execution_count": 33,
   "metadata": {},
   "outputs": [],
   "source": [
    "model.compile(loss='categorical_crossentropy', optimizer='sgd', metrics=['accuracy'])"
   ]
  },
  {
   "cell_type": "markdown",
   "metadata": {},
   "source": [
    "##  모델 학습하기"
   ]
  },
  {
   "cell_type": "code",
   "execution_count": 37,
   "metadata": {},
   "outputs": [
    {
     "name": "stdout",
     "output_type": "stream",
     "text": [
      "Train on 50000 samples, validate on 10000 samples\n",
      "Epoch 1/300\n",
      "50000/50000 [==============================] - 0s 5us/step - loss: 1.0024 - acc: 0.6855 - val_loss: 0.9683 - val_acc: 0.6933\n",
      "Epoch 2/300\n",
      "50000/50000 [==============================] - 0s 5us/step - loss: 1.0019 - acc: 0.6860 - val_loss: 0.9680 - val_acc: 0.6930\n",
      "Epoch 3/300\n",
      "50000/50000 [==============================] - 0s 5us/step - loss: 1.0013 - acc: 0.6857 - val_loss: 0.9706 - val_acc: 0.6907\n",
      "Epoch 4/300\n",
      "50000/50000 [==============================] - 0s 5us/step - loss: 1.0008 - acc: 0.6864 - val_loss: 0.9678 - val_acc: 0.6925\n",
      "Epoch 5/300\n",
      "50000/50000 [==============================] - 0s 4us/step - loss: 1.0004 - acc: 0.6866 - val_loss: 0.9660 - val_acc: 0.6932\n",
      "Epoch 6/300\n",
      "50000/50000 [==============================] - 0s 4us/step - loss: 0.9998 - acc: 0.6870 - val_loss: 0.9650 - val_acc: 0.6952\n",
      "Epoch 7/300\n",
      "50000/50000 [==============================] - 0s 4us/step - loss: 0.9991 - acc: 0.6869 - val_loss: 0.9652 - val_acc: 0.6933\n",
      "Epoch 8/300\n",
      "50000/50000 [==============================] - 0s 4us/step - loss: 0.9986 - acc: 0.6874 - val_loss: 0.9674 - val_acc: 0.6931\n",
      "Epoch 9/300\n",
      "50000/50000 [==============================] - 0s 4us/step - loss: 0.9981 - acc: 0.6874 - val_loss: 0.9636 - val_acc: 0.6965\n",
      "Epoch 10/300\n",
      "50000/50000 [==============================] - 0s 4us/step - loss: 0.9975 - acc: 0.6884 - val_loss: 0.9644 - val_acc: 0.6929\n",
      "Epoch 11/300\n",
      "50000/50000 [==============================] - 0s 4us/step - loss: 0.9969 - acc: 0.6880 - val_loss: 0.9631 - val_acc: 0.6962\n",
      "Epoch 12/300\n",
      "50000/50000 [==============================] - 0s 4us/step - loss: 0.9966 - acc: 0.6886 - val_loss: 0.9642 - val_acc: 0.6947\n",
      "Epoch 13/300\n",
      "50000/50000 [==============================] - 0s 4us/step - loss: 0.9960 - acc: 0.6879 - val_loss: 0.9621 - val_acc: 0.6949\n",
      "Epoch 14/300\n",
      "50000/50000 [==============================] - 0s 4us/step - loss: 0.9956 - acc: 0.6880 - val_loss: 0.9628 - val_acc: 0.6936\n",
      "Epoch 15/300\n",
      "50000/50000 [==============================] - 0s 4us/step - loss: 0.9951 - acc: 0.6888 - val_loss: 0.9620 - val_acc: 0.6937\n",
      "Epoch 16/300\n",
      "50000/50000 [==============================] - 0s 4us/step - loss: 0.9945 - acc: 0.6888 - val_loss: 0.9613 - val_acc: 0.6939\n",
      "Epoch 17/300\n",
      "50000/50000 [==============================] - 0s 4us/step - loss: 0.9940 - acc: 0.6888 - val_loss: 0.9606 - val_acc: 0.6980\n",
      "Epoch 18/300\n",
      "50000/50000 [==============================] - 0s 4us/step - loss: 0.9937 - acc: 0.6887 - val_loss: 0.9610 - val_acc: 0.6955\n",
      "Epoch 19/300\n",
      "50000/50000 [==============================] - 0s 4us/step - loss: 0.9932 - acc: 0.6901 - val_loss: 0.9611 - val_acc: 0.6949\n",
      "Epoch 20/300\n",
      "50000/50000 [==============================] - 0s 4us/step - loss: 0.9928 - acc: 0.6896 - val_loss: 0.9593 - val_acc: 0.6960\n",
      "Epoch 21/300\n",
      "50000/50000 [==============================] - 0s 4us/step - loss: 0.9923 - acc: 0.6892 - val_loss: 0.9594 - val_acc: 0.6958\n",
      "Epoch 22/300\n",
      "50000/50000 [==============================] - 0s 4us/step - loss: 0.9917 - acc: 0.6904 - val_loss: 0.9584 - val_acc: 0.6953\n",
      "Epoch 23/300\n",
      "50000/50000 [==============================] - 0s 4us/step - loss: 0.9912 - acc: 0.6896 - val_loss: 0.9581 - val_acc: 0.6957\n",
      "Epoch 24/300\n",
      "50000/50000 [==============================] - 0s 4us/step - loss: 0.9909 - acc: 0.6895 - val_loss: 0.9574 - val_acc: 0.6970\n",
      "Epoch 25/300\n",
      "50000/50000 [==============================] - 0s 4us/step - loss: 0.9904 - acc: 0.6902 - val_loss: 0.9577 - val_acc: 0.6956\n",
      "Epoch 26/300\n",
      "50000/50000 [==============================] - 0s 4us/step - loss: 0.9901 - acc: 0.6900 - val_loss: 0.9578 - val_acc: 0.6955\n",
      "Epoch 27/300\n",
      "50000/50000 [==============================] - 0s 4us/step - loss: 0.9895 - acc: 0.6905 - val_loss: 0.9599 - val_acc: 0.6949\n",
      "Epoch 28/300\n",
      "50000/50000 [==============================] - 0s 4us/step - loss: 0.9893 - acc: 0.6900 - val_loss: 0.9580 - val_acc: 0.6957\n",
      "Epoch 29/300\n",
      "50000/50000 [==============================] - 0s 4us/step - loss: 0.9887 - acc: 0.6898 - val_loss: 0.9558 - val_acc: 0.6961\n",
      "Epoch 30/300\n",
      "50000/50000 [==============================] - 0s 4us/step - loss: 0.9886 - acc: 0.6914 - val_loss: 0.9548 - val_acc: 0.6979\n",
      "Epoch 31/300\n",
      "50000/50000 [==============================] - 0s 4us/step - loss: 0.9881 - acc: 0.6905 - val_loss: 0.9555 - val_acc: 0.6965\n",
      "Epoch 32/300\n",
      "50000/50000 [==============================] - 0s 4us/step - loss: 0.9876 - acc: 0.6906 - val_loss: 0.9554 - val_acc: 0.6979\n",
      "Epoch 33/300\n",
      "50000/50000 [==============================] - 0s 4us/step - loss: 0.9872 - acc: 0.6912 - val_loss: 0.9537 - val_acc: 0.6976\n",
      "Epoch 34/300\n",
      "50000/50000 [==============================] - 0s 4us/step - loss: 0.9869 - acc: 0.6914 - val_loss: 0.9558 - val_acc: 0.6960\n",
      "Epoch 35/300\n",
      "50000/50000 [==============================] - 0s 4us/step - loss: 0.9864 - acc: 0.6902 - val_loss: 0.9530 - val_acc: 0.6977\n",
      "Epoch 36/300\n",
      "50000/50000 [==============================] - 0s 4us/step - loss: 0.9860 - acc: 0.6916 - val_loss: 0.9527 - val_acc: 0.6986\n",
      "Epoch 37/300\n",
      "50000/50000 [==============================] - 0s 4us/step - loss: 0.9857 - acc: 0.6916 - val_loss: 0.9527 - val_acc: 0.6984\n",
      "Epoch 38/300\n",
      "50000/50000 [==============================] - 0s 4us/step - loss: 0.9853 - acc: 0.6911 - val_loss: 0.9575 - val_acc: 0.6938\n",
      "Epoch 39/300\n",
      "50000/50000 [==============================] - 0s 4us/step - loss: 0.9850 - acc: 0.6914 - val_loss: 0.9556 - val_acc: 0.6962\n",
      "Epoch 40/300\n",
      "50000/50000 [==============================] - 0s 4us/step - loss: 0.9845 - acc: 0.6920 - val_loss: 0.9531 - val_acc: 0.6995\n",
      "Epoch 41/300\n",
      "50000/50000 [==============================] - 0s 4us/step - loss: 0.9842 - acc: 0.6914 - val_loss: 0.9516 - val_acc: 0.6970\n",
      "Epoch 42/300\n",
      "50000/50000 [==============================] - 0s 4us/step - loss: 0.9840 - acc: 0.6935 - val_loss: 0.9513 - val_acc: 0.6973\n",
      "Epoch 43/300\n",
      "50000/50000 [==============================] - 0s 4us/step - loss: 0.9835 - acc: 0.6924 - val_loss: 0.9512 - val_acc: 0.6982\n",
      "Epoch 44/300\n",
      "50000/50000 [==============================] - 0s 4us/step - loss: 0.9832 - acc: 0.6919 - val_loss: 0.9512 - val_acc: 0.6977\n",
      "Epoch 45/300\n",
      "50000/50000 [==============================] - 0s 4us/step - loss: 0.9829 - acc: 0.6915 - val_loss: 0.9512 - val_acc: 0.6980\n",
      "Epoch 46/300\n",
      "50000/50000 [==============================] - 0s 4us/step - loss: 0.9825 - acc: 0.6921 - val_loss: 0.9509 - val_acc: 0.6993\n",
      "Epoch 47/300\n",
      "50000/50000 [==============================] - 0s 4us/step - loss: 0.9820 - acc: 0.6920 - val_loss: 0.9497 - val_acc: 0.6968\n",
      "Epoch 48/300\n",
      "50000/50000 [==============================] - 0s 4us/step - loss: 0.9818 - acc: 0.6919 - val_loss: 0.9517 - val_acc: 0.6980\n",
      "Epoch 49/300\n",
      "50000/50000 [==============================] - 0s 4us/step - loss: 0.9815 - acc: 0.6924 - val_loss: 0.9499 - val_acc: 0.6976\n",
      "Epoch 50/300\n",
      "50000/50000 [==============================] - 0s 4us/step - loss: 0.9810 - acc: 0.6927 - val_loss: 0.9511 - val_acc: 0.6971\n",
      "Epoch 51/300\n",
      "50000/50000 [==============================] - 0s 4us/step - loss: 0.9807 - acc: 0.6930 - val_loss: 0.9482 - val_acc: 0.6978\n",
      "Epoch 52/300\n",
      "50000/50000 [==============================] - 0s 4us/step - loss: 0.9805 - acc: 0.6928 - val_loss: 0.9493 - val_acc: 0.7000\n",
      "Epoch 53/300\n",
      "50000/50000 [==============================] - 0s 4us/step - loss: 0.9802 - acc: 0.6931 - val_loss: 0.9474 - val_acc: 0.7007\n",
      "Epoch 54/300\n",
      "50000/50000 [==============================] - 0s 4us/step - loss: 0.9796 - acc: 0.6932 - val_loss: 0.9488 - val_acc: 0.6990\n",
      "Epoch 55/300\n",
      "50000/50000 [==============================] - 0s 4us/step - loss: 0.9794 - acc: 0.6936 - val_loss: 0.9468 - val_acc: 0.6991\n",
      "Epoch 56/300\n",
      "50000/50000 [==============================] - 0s 4us/step - loss: 0.9792 - acc: 0.6928 - val_loss: 0.9491 - val_acc: 0.6985\n",
      "Epoch 57/300\n",
      "50000/50000 [==============================] - 0s 4us/step - loss: 0.9789 - acc: 0.6935 - val_loss: 0.9471 - val_acc: 0.6982\n",
      "Epoch 58/300\n",
      "50000/50000 [==============================] - 0s 4us/step - loss: 0.9786 - acc: 0.6930 - val_loss: 0.9458 - val_acc: 0.6996\n",
      "Epoch 59/300\n",
      "50000/50000 [==============================] - 0s 4us/step - loss: 0.9783 - acc: 0.6927 - val_loss: 0.9456 - val_acc: 0.6988\n",
      "Epoch 60/300\n"
     ]
    },
    {
     "name": "stdout",
     "output_type": "stream",
     "text": [
      "50000/50000 [==============================] - 0s 4us/step - loss: 0.9780 - acc: 0.6931 - val_loss: 0.9455 - val_acc: 0.6993\n",
      "Epoch 61/300\n",
      "50000/50000 [==============================] - 0s 4us/step - loss: 0.9778 - acc: 0.6930 - val_loss: 0.9453 - val_acc: 0.6989\n",
      "Epoch 62/300\n",
      "50000/50000 [==============================] - 0s 4us/step - loss: 0.9773 - acc: 0.6935 - val_loss: 0.9460 - val_acc: 0.7003\n",
      "Epoch 63/300\n",
      "50000/50000 [==============================] - 0s 4us/step - loss: 0.9768 - acc: 0.6941 - val_loss: 0.9455 - val_acc: 0.6996\n",
      "Epoch 64/300\n",
      "50000/50000 [==============================] - 0s 4us/step - loss: 0.9767 - acc: 0.6940 - val_loss: 0.9445 - val_acc: 0.7014\n",
      "Epoch 65/300\n",
      "50000/50000 [==============================] - 0s 4us/step - loss: 0.9765 - acc: 0.6933 - val_loss: 0.9446 - val_acc: 0.7015\n",
      "Epoch 66/300\n",
      "50000/50000 [==============================] - 0s 4us/step - loss: 0.9761 - acc: 0.6937 - val_loss: 0.9450 - val_acc: 0.6992\n",
      "Epoch 67/300\n",
      "50000/50000 [==============================] - 0s 4us/step - loss: 0.9759 - acc: 0.6934 - val_loss: 0.9464 - val_acc: 0.6990\n",
      "Epoch 68/300\n",
      "50000/50000 [==============================] - 0s 4us/step - loss: 0.9757 - acc: 0.6933 - val_loss: 0.9435 - val_acc: 0.6999\n",
      "Epoch 69/300\n",
      "50000/50000 [==============================] - 0s 4us/step - loss: 0.9755 - acc: 0.6931 - val_loss: 0.9428 - val_acc: 0.7008\n",
      "Epoch 70/300\n",
      "50000/50000 [==============================] - 0s 4us/step - loss: 0.9749 - acc: 0.6939 - val_loss: 0.9432 - val_acc: 0.6989\n",
      "Epoch 71/300\n",
      "50000/50000 [==============================] - 0s 4us/step - loss: 0.9748 - acc: 0.6938 - val_loss: 0.9434 - val_acc: 0.7001\n",
      "Epoch 72/300\n",
      "50000/50000 [==============================] - 0s 4us/step - loss: 0.9744 - acc: 0.6939 - val_loss: 0.9426 - val_acc: 0.6988\n",
      "Epoch 73/300\n",
      "50000/50000 [==============================] - 0s 4us/step - loss: 0.9744 - acc: 0.6945 - val_loss: 0.9425 - val_acc: 0.7001\n",
      "Epoch 74/300\n",
      "50000/50000 [==============================] - 0s 4us/step - loss: 0.9739 - acc: 0.6947 - val_loss: 0.9429 - val_acc: 0.7009\n",
      "Epoch 75/300\n",
      "50000/50000 [==============================] - 0s 4us/step - loss: 0.9738 - acc: 0.6946 - val_loss: 0.9416 - val_acc: 0.7009\n",
      "Epoch 76/300\n",
      "50000/50000 [==============================] - 0s 4us/step - loss: 0.9734 - acc: 0.6947 - val_loss: 0.9413 - val_acc: 0.7001\n",
      "Epoch 77/300\n",
      "50000/50000 [==============================] - 0s 4us/step - loss: 0.9732 - acc: 0.6946 - val_loss: 0.9417 - val_acc: 0.7005\n",
      "Epoch 78/300\n",
      "50000/50000 [==============================] - 0s 4us/step - loss: 0.9729 - acc: 0.6943 - val_loss: 0.9406 - val_acc: 0.7004\n",
      "Epoch 79/300\n",
      "50000/50000 [==============================] - 0s 4us/step - loss: 0.9726 - acc: 0.6951 - val_loss: 0.9414 - val_acc: 0.7001\n",
      "Epoch 80/300\n",
      "50000/50000 [==============================] - 0s 4us/step - loss: 0.9725 - acc: 0.6946 - val_loss: 0.9432 - val_acc: 0.6993\n",
      "Epoch 81/300\n",
      "50000/50000 [==============================] - 0s 4us/step - loss: 0.9722 - acc: 0.6947 - val_loss: 0.9408 - val_acc: 0.7005\n",
      "Epoch 82/300\n",
      "50000/50000 [==============================] - 0s 4us/step - loss: 0.9720 - acc: 0.6950 - val_loss: 0.9403 - val_acc: 0.6998\n",
      "Epoch 83/300\n",
      "50000/50000 [==============================] - 0s 4us/step - loss: 0.9718 - acc: 0.6951 - val_loss: 0.9402 - val_acc: 0.6985\n",
      "Epoch 84/300\n",
      "50000/50000 [==============================] - 0s 4us/step - loss: 0.9715 - acc: 0.6951 - val_loss: 0.9408 - val_acc: 0.7013\n",
      "Epoch 85/300\n",
      "50000/50000 [==============================] - 0s 4us/step - loss: 0.9712 - acc: 0.6944 - val_loss: 0.9391 - val_acc: 0.7021\n",
      "Epoch 86/300\n",
      "50000/50000 [==============================] - 0s 4us/step - loss: 0.9711 - acc: 0.6954 - val_loss: 0.9391 - val_acc: 0.7006\n",
      "Epoch 87/300\n",
      "50000/50000 [==============================] - 0s 4us/step - loss: 0.9707 - acc: 0.6954 - val_loss: 0.9428 - val_acc: 0.6971\n",
      "Epoch 88/300\n",
      "50000/50000 [==============================] - 0s 4us/step - loss: 0.9704 - acc: 0.6944 - val_loss: 0.9416 - val_acc: 0.7002\n",
      "Epoch 89/300\n",
      "50000/50000 [==============================] - 0s 4us/step - loss: 0.9701 - acc: 0.6949 - val_loss: 0.9407 - val_acc: 0.7015\n",
      "Epoch 90/300\n",
      "50000/50000 [==============================] - 0s 4us/step - loss: 0.9699 - acc: 0.6949 - val_loss: 0.9384 - val_acc: 0.7013\n",
      "Epoch 91/300\n",
      "50000/50000 [==============================] - 0s 4us/step - loss: 0.9697 - acc: 0.6946 - val_loss: 0.9375 - val_acc: 0.7017\n",
      "Epoch 92/300\n",
      "50000/50000 [==============================] - 0s 4us/step - loss: 0.9695 - acc: 0.6951 - val_loss: 0.9382 - val_acc: 0.7009\n",
      "Epoch 93/300\n",
      "50000/50000 [==============================] - 0s 4us/step - loss: 0.9693 - acc: 0.6953 - val_loss: 0.9415 - val_acc: 0.6993\n",
      "Epoch 94/300\n",
      "50000/50000 [==============================] - 0s 4us/step - loss: 0.9690 - acc: 0.6949 - val_loss: 0.9374 - val_acc: 0.7002\n",
      "Epoch 95/300\n",
      "50000/50000 [==============================] - 0s 4us/step - loss: 0.9688 - acc: 0.6957 - val_loss: 0.9386 - val_acc: 0.7023\n",
      "Epoch 96/300\n",
      "50000/50000 [==============================] - 0s 4us/step - loss: 0.9686 - acc: 0.6955 - val_loss: 0.9393 - val_acc: 0.7028\n",
      "Epoch 97/300\n",
      "50000/50000 [==============================] - 0s 4us/step - loss: 0.9684 - acc: 0.6952 - val_loss: 0.9391 - val_acc: 0.6988\n",
      "Epoch 98/300\n",
      "50000/50000 [==============================] - 0s 4us/step - loss: 0.9683 - acc: 0.6961 - val_loss: 0.9372 - val_acc: 0.6994\n",
      "Epoch 99/300\n",
      "50000/50000 [==============================] - 0s 4us/step - loss: 0.9681 - acc: 0.6959 - val_loss: 0.9364 - val_acc: 0.7029\n",
      "Epoch 100/300\n",
      "50000/50000 [==============================] - 0s 4us/step - loss: 0.9678 - acc: 0.6956 - val_loss: 0.9358 - val_acc: 0.7003\n",
      "Epoch 101/300\n",
      "50000/50000 [==============================] - 0s 4us/step - loss: 0.9673 - acc: 0.6961 - val_loss: 0.9361 - val_acc: 0.7007\n",
      "Epoch 102/300\n",
      "50000/50000 [==============================] - 0s 4us/step - loss: 0.9674 - acc: 0.6956 - val_loss: 0.9354 - val_acc: 0.7023\n",
      "Epoch 103/300\n",
      "50000/50000 [==============================] - 0s 4us/step - loss: 0.9673 - acc: 0.6956 - val_loss: 0.9357 - val_acc: 0.7012\n",
      "Epoch 104/300\n",
      "50000/50000 [==============================] - 0s 4us/step - loss: 0.9670 - acc: 0.6957 - val_loss: 0.9358 - val_acc: 0.7000\n",
      "Epoch 105/300\n",
      "50000/50000 [==============================] - 0s 4us/step - loss: 0.9668 - acc: 0.6966 - val_loss: 0.9385 - val_acc: 0.7013\n",
      "Epoch 106/300\n",
      "50000/50000 [==============================] - 0s 4us/step - loss: 0.9665 - acc: 0.6960 - val_loss: 0.9350 - val_acc: 0.7031\n",
      "Epoch 107/300\n",
      "50000/50000 [==============================] - 0s 4us/step - loss: 0.9664 - acc: 0.6952 - val_loss: 0.9352 - val_acc: 0.7009\n",
      "Epoch 108/300\n",
      "50000/50000 [==============================] - 0s 4us/step - loss: 0.9662 - acc: 0.6968 - val_loss: 0.9346 - val_acc: 0.7020\n",
      "Epoch 109/300\n",
      "50000/50000 [==============================] - 0s 4us/step - loss: 0.9658 - acc: 0.6961 - val_loss: 0.9339 - val_acc: 0.7023\n",
      "Epoch 110/300\n",
      "50000/50000 [==============================] - 0s 4us/step - loss: 0.9655 - acc: 0.6965 - val_loss: 0.9348 - val_acc: 0.7020\n",
      "Epoch 111/300\n",
      "50000/50000 [==============================] - 0s 4us/step - loss: 0.9656 - acc: 0.6957 - val_loss: 0.9386 - val_acc: 0.7012\n",
      "Epoch 112/300\n",
      "50000/50000 [==============================] - 0s 4us/step - loss: 0.9653 - acc: 0.6960 - val_loss: 0.9341 - val_acc: 0.7015\n",
      "Epoch 113/300\n",
      "50000/50000 [==============================] - 0s 4us/step - loss: 0.9653 - acc: 0.6964 - val_loss: 0.9358 - val_acc: 0.7011\n",
      "Epoch 114/300\n",
      "50000/50000 [==============================] - 0s 4us/step - loss: 0.9651 - acc: 0.6969 - val_loss: 0.9336 - val_acc: 0.7024\n",
      "Epoch 115/300\n",
      "50000/50000 [==============================] - 0s 4us/step - loss: 0.9648 - acc: 0.6972 - val_loss: 0.9400 - val_acc: 0.6951\n",
      "Epoch 116/300\n",
      "50000/50000 [==============================] - 0s 4us/step - loss: 0.9646 - acc: 0.6969 - val_loss: 0.9334 - val_acc: 0.7017\n",
      "Epoch 117/300\n",
      "50000/50000 [==============================] - 0s 4us/step - loss: 0.9643 - acc: 0.6964 - val_loss: 0.9331 - val_acc: 0.7014\n",
      "Epoch 118/300\n",
      "50000/50000 [==============================] - 0s 4us/step - loss: 0.9642 - acc: 0.6966 - val_loss: 0.9347 - val_acc: 0.7007\n",
      "Epoch 119/300\n"
     ]
    },
    {
     "name": "stdout",
     "output_type": "stream",
     "text": [
      "50000/50000 [==============================] - 0s 4us/step - loss: 0.9640 - acc: 0.6960 - val_loss: 0.9326 - val_acc: 0.7021\n",
      "Epoch 120/300\n",
      "50000/50000 [==============================] - 0s 4us/step - loss: 0.9638 - acc: 0.6969 - val_loss: 0.9320 - val_acc: 0.7017\n",
      "Epoch 121/300\n",
      "50000/50000 [==============================] - 0s 4us/step - loss: 0.9636 - acc: 0.6965 - val_loss: 0.9326 - val_acc: 0.7004\n",
      "Epoch 122/300\n",
      "50000/50000 [==============================] - 0s 4us/step - loss: 0.9634 - acc: 0.6971 - val_loss: 0.9323 - val_acc: 0.7030\n",
      "Epoch 123/300\n",
      "50000/50000 [==============================] - 0s 4us/step - loss: 0.9633 - acc: 0.6963 - val_loss: 0.9334 - val_acc: 0.7029\n",
      "Epoch 124/300\n",
      "50000/50000 [==============================] - 0s 4us/step - loss: 0.9631 - acc: 0.6972 - val_loss: 0.9319 - val_acc: 0.7014\n",
      "Epoch 125/300\n",
      "50000/50000 [==============================] - 0s 4us/step - loss: 0.9631 - acc: 0.6969 - val_loss: 0.9318 - val_acc: 0.7023\n",
      "Epoch 126/300\n",
      "50000/50000 [==============================] - 0s 4us/step - loss: 0.9629 - acc: 0.6971 - val_loss: 0.9336 - val_acc: 0.7021\n",
      "Epoch 127/300\n",
      "50000/50000 [==============================] - 0s 4us/step - loss: 0.9625 - acc: 0.6972 - val_loss: 0.9343 - val_acc: 0.7019\n",
      "Epoch 128/300\n",
      "50000/50000 [==============================] - 0s 4us/step - loss: 0.9623 - acc: 0.6968 - val_loss: 0.9323 - val_acc: 0.7028\n",
      "Epoch 129/300\n",
      "50000/50000 [==============================] - 0s 4us/step - loss: 0.9623 - acc: 0.6970 - val_loss: 0.9312 - val_acc: 0.7012\n",
      "Epoch 130/300\n",
      "50000/50000 [==============================] - 0s 4us/step - loss: 0.9619 - acc: 0.6970 - val_loss: 0.9329 - val_acc: 0.7021\n",
      "Epoch 131/300\n",
      "50000/50000 [==============================] - 0s 4us/step - loss: 0.9619 - acc: 0.6975 - val_loss: 0.9304 - val_acc: 0.7015\n",
      "Epoch 132/300\n",
      "50000/50000 [==============================] - 0s 4us/step - loss: 0.9617 - acc: 0.6976 - val_loss: 0.9308 - val_acc: 0.7013\n",
      "Epoch 133/300\n",
      "50000/50000 [==============================] - 0s 4us/step - loss: 0.9614 - acc: 0.6969 - val_loss: 0.9310 - val_acc: 0.7017\n",
      "Epoch 134/300\n",
      "50000/50000 [==============================] - 0s 4us/step - loss: 0.9614 - acc: 0.6969 - val_loss: 0.9326 - val_acc: 0.7016\n",
      "Epoch 135/300\n",
      "50000/50000 [==============================] - 0s 4us/step - loss: 0.9612 - acc: 0.6971 - val_loss: 0.9304 - val_acc: 0.7022\n",
      "Epoch 136/300\n",
      "50000/50000 [==============================] - 0s 4us/step - loss: 0.9611 - acc: 0.6969 - val_loss: 0.9302 - val_acc: 0.7015\n",
      "Epoch 137/300\n",
      "50000/50000 [==============================] - 0s 4us/step - loss: 0.9608 - acc: 0.6972 - val_loss: 0.9330 - val_acc: 0.7026\n",
      "Epoch 138/300\n",
      "50000/50000 [==============================] - 0s 4us/step - loss: 0.9608 - acc: 0.6978 - val_loss: 0.9291 - val_acc: 0.7031\n",
      "Epoch 139/300\n",
      "50000/50000 [==============================] - 0s 4us/step - loss: 0.9606 - acc: 0.6970 - val_loss: 0.9331 - val_acc: 0.7029\n",
      "Epoch 140/300\n",
      "50000/50000 [==============================] - 0s 4us/step - loss: 0.9605 - acc: 0.6976 - val_loss: 0.9291 - val_acc: 0.7023\n",
      "Epoch 141/300\n",
      "50000/50000 [==============================] - 0s 4us/step - loss: 0.9601 - acc: 0.6977 - val_loss: 0.9304 - val_acc: 0.7029\n",
      "Epoch 142/300\n",
      "50000/50000 [==============================] - 0s 4us/step - loss: 0.9600 - acc: 0.6978 - val_loss: 0.9297 - val_acc: 0.7041\n",
      "Epoch 143/300\n",
      "50000/50000 [==============================] - 0s 4us/step - loss: 0.9599 - acc: 0.6976 - val_loss: 0.9297 - val_acc: 0.7043\n",
      "Epoch 144/300\n",
      "50000/50000 [==============================] - 0s 4us/step - loss: 0.9598 - acc: 0.6972 - val_loss: 0.9287 - val_acc: 0.7020\n",
      "Epoch 145/300\n",
      "50000/50000 [==============================] - 0s 4us/step - loss: 0.9597 - acc: 0.6974 - val_loss: 0.9290 - val_acc: 0.7036\n",
      "Epoch 146/300\n",
      "50000/50000 [==============================] - 0s 4us/step - loss: 0.9596 - acc: 0.6981 - val_loss: 0.9285 - val_acc: 0.7017\n",
      "Epoch 147/300\n",
      "50000/50000 [==============================] - 0s 4us/step - loss: 0.9594 - acc: 0.6978 - val_loss: 0.9317 - val_acc: 0.7022\n",
      "Epoch 148/300\n",
      "50000/50000 [==============================] - 0s 4us/step - loss: 0.9592 - acc: 0.6976 - val_loss: 0.9289 - val_acc: 0.7042\n",
      "Epoch 149/300\n",
      "50000/50000 [==============================] - 0s 4us/step - loss: 0.9592 - acc: 0.6976 - val_loss: 0.9306 - val_acc: 0.7025\n",
      "Epoch 150/300\n",
      "50000/50000 [==============================] - 0s 4us/step - loss: 0.9587 - acc: 0.6977 - val_loss: 0.9292 - val_acc: 0.7028\n",
      "Epoch 151/300\n",
      "50000/50000 [==============================] - 0s 4us/step - loss: 0.9587 - acc: 0.6980 - val_loss: 0.9280 - val_acc: 0.7017\n",
      "Epoch 152/300\n",
      "50000/50000 [==============================] - 0s 4us/step - loss: 0.9585 - acc: 0.6976 - val_loss: 0.9321 - val_acc: 0.7008\n",
      "Epoch 153/300\n",
      "50000/50000 [==============================] - 0s 4us/step - loss: 0.9585 - acc: 0.6983 - val_loss: 0.9274 - val_acc: 0.7007\n",
      "Epoch 154/300\n",
      "50000/50000 [==============================] - 0s 4us/step - loss: 0.9584 - acc: 0.6976 - val_loss: 0.9294 - val_acc: 0.7007\n",
      "Epoch 155/300\n",
      "50000/50000 [==============================] - 0s 4us/step - loss: 0.9582 - acc: 0.6979 - val_loss: 0.9284 - val_acc: 0.7016\n",
      "Epoch 156/300\n",
      "50000/50000 [==============================] - 0s 4us/step - loss: 0.9580 - acc: 0.6981 - val_loss: 0.9283 - val_acc: 0.7034\n",
      "Epoch 157/300\n",
      "50000/50000 [==============================] - 0s 4us/step - loss: 0.9579 - acc: 0.6980 - val_loss: 0.9275 - val_acc: 0.7028\n",
      "Epoch 158/300\n",
      "50000/50000 [==============================] - 0s 4us/step - loss: 0.9577 - acc: 0.6987 - val_loss: 0.9267 - val_acc: 0.7023\n",
      "Epoch 159/300\n",
      "50000/50000 [==============================] - 0s 4us/step - loss: 0.9578 - acc: 0.6991 - val_loss: 0.9287 - val_acc: 0.7033\n",
      "Epoch 160/300\n",
      "50000/50000 [==============================] - 0s 4us/step - loss: 0.9574 - acc: 0.6979 - val_loss: 0.9261 - val_acc: 0.7029\n",
      "Epoch 161/300\n",
      "50000/50000 [==============================] - 0s 4us/step - loss: 0.9573 - acc: 0.6977 - val_loss: 0.9267 - val_acc: 0.7010\n",
      "Epoch 162/300\n",
      "50000/50000 [==============================] - 0s 4us/step - loss: 0.9572 - acc: 0.6986 - val_loss: 0.9272 - val_acc: 0.7015\n",
      "Epoch 163/300\n",
      "50000/50000 [==============================] - 0s 4us/step - loss: 0.9570 - acc: 0.6985 - val_loss: 0.9265 - val_acc: 0.7023\n",
      "Epoch 164/300\n",
      "50000/50000 [==============================] - 0s 4us/step - loss: 0.9568 - acc: 0.6988 - val_loss: 0.9280 - val_acc: 0.7017\n",
      "Epoch 165/300\n",
      "50000/50000 [==============================] - 0s 4us/step - loss: 0.9568 - acc: 0.6979 - val_loss: 0.9259 - val_acc: 0.7011\n",
      "Epoch 166/300\n",
      "50000/50000 [==============================] - 0s 4us/step - loss: 0.9567 - acc: 0.6980 - val_loss: 0.9291 - val_acc: 0.7016\n",
      "Epoch 167/300\n",
      "50000/50000 [==============================] - 0s 4us/step - loss: 0.9565 - acc: 0.6987 - val_loss: 0.9254 - val_acc: 0.7005\n",
      "Epoch 168/300\n",
      "50000/50000 [==============================] - 0s 4us/step - loss: 0.9565 - acc: 0.6978 - val_loss: 0.9270 - val_acc: 0.7043\n",
      "Epoch 169/300\n",
      "50000/50000 [==============================] - 0s 4us/step - loss: 0.9561 - acc: 0.6982 - val_loss: 0.9264 - val_acc: 0.7042\n",
      "Epoch 170/300\n",
      "50000/50000 [==============================] - 0s 4us/step - loss: 0.9560 - acc: 0.6988 - val_loss: 0.9257 - val_acc: 0.7034\n",
      "Epoch 171/300\n",
      "50000/50000 [==============================] - 0s 4us/step - loss: 0.9559 - acc: 0.6984 - val_loss: 0.9301 - val_acc: 0.7009\n",
      "Epoch 172/300\n",
      "50000/50000 [==============================] - 0s 4us/step - loss: 0.9560 - acc: 0.6987 - val_loss: 0.9256 - val_acc: 0.7024\n",
      "Epoch 173/300\n",
      "50000/50000 [==============================] - 0s 4us/step - loss: 0.9557 - acc: 0.6984 - val_loss: 0.9279 - val_acc: 0.7034\n",
      "Epoch 174/300\n",
      "50000/50000 [==============================] - 0s 4us/step - loss: 0.9555 - acc: 0.6987 - val_loss: 0.9257 - val_acc: 0.7033\n",
      "Epoch 175/300\n",
      "50000/50000 [==============================] - 0s 4us/step - loss: 0.9554 - acc: 0.6979 - val_loss: 0.9292 - val_acc: 0.7018\n",
      "Epoch 176/300\n",
      "50000/50000 [==============================] - 0s 4us/step - loss: 0.9553 - acc: 0.6988 - val_loss: 0.9251 - val_acc: 0.7017\n",
      "Epoch 177/300\n",
      "50000/50000 [==============================] - 0s 4us/step - loss: 0.9552 - acc: 0.6984 - val_loss: 0.9255 - val_acc: 0.7031\n",
      "Epoch 178/300\n"
     ]
    },
    {
     "name": "stdout",
     "output_type": "stream",
     "text": [
      "50000/50000 [==============================] - 0s 4us/step - loss: 0.9552 - acc: 0.6985 - val_loss: 0.9241 - val_acc: 0.7026\n",
      "Epoch 179/300\n",
      "50000/50000 [==============================] - 0s 4us/step - loss: 0.9548 - acc: 0.6990 - val_loss: 0.9262 - val_acc: 0.7045\n",
      "Epoch 180/300\n",
      "50000/50000 [==============================] - 0s 4us/step - loss: 0.9549 - acc: 0.6984 - val_loss: 0.9251 - val_acc: 0.7039\n",
      "Epoch 181/300\n",
      "50000/50000 [==============================] - 0s 4us/step - loss: 0.9548 - acc: 0.6994 - val_loss: 0.9237 - val_acc: 0.7021\n",
      "Epoch 182/300\n",
      "50000/50000 [==============================] - 0s 4us/step - loss: 0.9546 - acc: 0.6981 - val_loss: 0.9245 - val_acc: 0.7035\n",
      "Epoch 183/300\n",
      "50000/50000 [==============================] - 0s 4us/step - loss: 0.9545 - acc: 0.6993 - val_loss: 0.9234 - val_acc: 0.7048\n",
      "Epoch 184/300\n",
      "50000/50000 [==============================] - 0s 4us/step - loss: 0.9542 - acc: 0.6993 - val_loss: 0.9237 - val_acc: 0.7023\n",
      "Epoch 185/300\n",
      "50000/50000 [==============================] - 0s 4us/step - loss: 0.9543 - acc: 0.6984 - val_loss: 0.9230 - val_acc: 0.7017\n",
      "Epoch 186/300\n",
      "50000/50000 [==============================] - 0s 4us/step - loss: 0.9543 - acc: 0.6989 - val_loss: 0.9239 - val_acc: 0.7023\n",
      "Epoch 187/300\n",
      "50000/50000 [==============================] - 0s 4us/step - loss: 0.9541 - acc: 0.6982 - val_loss: 0.9230 - val_acc: 0.7036\n",
      "Epoch 188/300\n",
      "50000/50000 [==============================] - 0s 4us/step - loss: 0.9538 - acc: 0.6995 - val_loss: 0.9233 - val_acc: 0.7031\n",
      "Epoch 189/300\n",
      "50000/50000 [==============================] - 0s 4us/step - loss: 0.9538 - acc: 0.6994 - val_loss: 0.9242 - val_acc: 0.7026\n",
      "Epoch 190/300\n",
      "50000/50000 [==============================] - 0s 4us/step - loss: 0.9536 - acc: 0.6984 - val_loss: 0.9245 - val_acc: 0.7038\n",
      "Epoch 191/300\n",
      "50000/50000 [==============================] - 0s 4us/step - loss: 0.9535 - acc: 0.6988 - val_loss: 0.9237 - val_acc: 0.7008\n",
      "Epoch 192/300\n",
      "50000/50000 [==============================] - 0s 4us/step - loss: 0.9534 - acc: 0.6989 - val_loss: 0.9225 - val_acc: 0.7032\n",
      "Epoch 193/300\n",
      "50000/50000 [==============================] - 0s 4us/step - loss: 0.9532 - acc: 0.6994 - val_loss: 0.9239 - val_acc: 0.7048\n",
      "Epoch 194/300\n",
      "50000/50000 [==============================] - 0s 4us/step - loss: 0.9533 - acc: 0.6991 - val_loss: 0.9224 - val_acc: 0.7043\n",
      "Epoch 195/300\n",
      "50000/50000 [==============================] - 0s 4us/step - loss: 0.9530 - acc: 0.6995 - val_loss: 0.9284 - val_acc: 0.7022\n",
      "Epoch 196/300\n",
      "50000/50000 [==============================] - 0s 4us/step - loss: 0.9530 - acc: 0.6992 - val_loss: 0.9261 - val_acc: 0.7041\n",
      "Epoch 197/300\n",
      "50000/50000 [==============================] - 0s 4us/step - loss: 0.9528 - acc: 0.6989 - val_loss: 0.9256 - val_acc: 0.7036\n",
      "Epoch 198/300\n",
      "50000/50000 [==============================] - 0s 4us/step - loss: 0.9528 - acc: 0.6986 - val_loss: 0.9224 - val_acc: 0.7038\n",
      "Epoch 199/300\n",
      "50000/50000 [==============================] - 0s 4us/step - loss: 0.9526 - acc: 0.6990 - val_loss: 0.9239 - val_acc: 0.7038\n",
      "Epoch 200/300\n",
      "50000/50000 [==============================] - 0s 4us/step - loss: 0.9524 - acc: 0.6991 - val_loss: 0.9220 - val_acc: 0.7016\n",
      "Epoch 201/300\n",
      "50000/50000 [==============================] - 0s 4us/step - loss: 0.9524 - acc: 0.6999 - val_loss: 0.9229 - val_acc: 0.7052\n",
      "Epoch 202/300\n",
      "50000/50000 [==============================] - 0s 4us/step - loss: 0.9521 - acc: 0.6995 - val_loss: 0.9220 - val_acc: 0.7026\n",
      "Epoch 203/300\n",
      "50000/50000 [==============================] - 0s 4us/step - loss: 0.9523 - acc: 0.6998 - val_loss: 0.9237 - val_acc: 0.7036\n",
      "Epoch 204/300\n",
      "50000/50000 [==============================] - 0s 4us/step - loss: 0.9522 - acc: 0.6998 - val_loss: 0.9214 - val_acc: 0.7042\n",
      "Epoch 205/300\n",
      "50000/50000 [==============================] - 0s 4us/step - loss: 0.9520 - acc: 0.6995 - val_loss: 0.9240 - val_acc: 0.7031\n",
      "Epoch 206/300\n",
      "50000/50000 [==============================] - 0s 4us/step - loss: 0.9518 - acc: 0.6991 - val_loss: 0.9242 - val_acc: 0.7048\n",
      "Epoch 207/300\n",
      "50000/50000 [==============================] - 0s 4us/step - loss: 0.9518 - acc: 0.7000 - val_loss: 0.9212 - val_acc: 0.7021\n",
      "Epoch 208/300\n",
      "50000/50000 [==============================] - 0s 4us/step - loss: 0.9517 - acc: 0.6994 - val_loss: 0.9212 - val_acc: 0.7013\n",
      "Epoch 209/300\n",
      "50000/50000 [==============================] - 0s 4us/step - loss: 0.9515 - acc: 0.6999 - val_loss: 0.9206 - val_acc: 0.7052\n",
      "Epoch 210/300\n",
      "50000/50000 [==============================] - 0s 4us/step - loss: 0.9513 - acc: 0.6997 - val_loss: 0.9206 - val_acc: 0.7021\n",
      "Epoch 211/300\n",
      "50000/50000 [==============================] - 0s 4us/step - loss: 0.9514 - acc: 0.7002 - val_loss: 0.9222 - val_acc: 0.7023\n",
      "Epoch 212/300\n",
      "50000/50000 [==============================] - 0s 4us/step - loss: 0.9513 - acc: 0.7003 - val_loss: 0.9203 - val_acc: 0.7056\n",
      "Epoch 213/300\n",
      "50000/50000 [==============================] - 0s 4us/step - loss: 0.9512 - acc: 0.6995 - val_loss: 0.9212 - val_acc: 0.7057\n",
      "Epoch 214/300\n",
      "50000/50000 [==============================] - 0s 4us/step - loss: 0.9512 - acc: 0.6998 - val_loss: 0.9226 - val_acc: 0.7046\n",
      "Epoch 215/300\n",
      "50000/50000 [==============================] - 0s 4us/step - loss: 0.9507 - acc: 0.7006 - val_loss: 0.9202 - val_acc: 0.7031\n",
      "Epoch 216/300\n",
      "50000/50000 [==============================] - 0s 4us/step - loss: 0.9508 - acc: 0.6992 - val_loss: 0.9212 - val_acc: 0.7023\n",
      "Epoch 217/300\n",
      "50000/50000 [==============================] - 0s 4us/step - loss: 0.9508 - acc: 0.6996 - val_loss: 0.9201 - val_acc: 0.7023\n",
      "Epoch 218/300\n",
      "50000/50000 [==============================] - 0s 4us/step - loss: 0.9507 - acc: 0.7000 - val_loss: 0.9199 - val_acc: 0.7045\n",
      "Epoch 219/300\n",
      "50000/50000 [==============================] - 0s 4us/step - loss: 0.9504 - acc: 0.6998 - val_loss: 0.9196 - val_acc: 0.7030\n",
      "Epoch 220/300\n",
      "50000/50000 [==============================] - 0s 4us/step - loss: 0.9505 - acc: 0.7001 - val_loss: 0.9205 - val_acc: 0.7037\n",
      "Epoch 221/300\n",
      "50000/50000 [==============================] - 0s 4us/step - loss: 0.9503 - acc: 0.7001 - val_loss: 0.9228 - val_acc: 0.7036\n",
      "Epoch 222/300\n",
      "50000/50000 [==============================] - 0s 4us/step - loss: 0.9502 - acc: 0.7001 - val_loss: 0.9202 - val_acc: 0.7035\n",
      "Epoch 223/300\n",
      "50000/50000 [==============================] - 0s 4us/step - loss: 0.9502 - acc: 0.7001 - val_loss: 0.9200 - val_acc: 0.7050\n",
      "Epoch 224/300\n",
      "50000/50000 [==============================] - 0s 4us/step - loss: 0.9500 - acc: 0.6999 - val_loss: 0.9218 - val_acc: 0.7025\n",
      "Epoch 225/300\n",
      "50000/50000 [==============================] - 0s 4us/step - loss: 0.9499 - acc: 0.7003 - val_loss: 0.9208 - val_acc: 0.7015\n",
      "Epoch 226/300\n",
      "50000/50000 [==============================] - 0s 4us/step - loss: 0.9496 - acc: 0.7002 - val_loss: 0.9201 - val_acc: 0.7048\n",
      "Epoch 227/300\n",
      "50000/50000 [==============================] - 0s 4us/step - loss: 0.9498 - acc: 0.7008 - val_loss: 0.9208 - val_acc: 0.7041\n",
      "Epoch 228/300\n",
      "50000/50000 [==============================] - 0s 4us/step - loss: 0.9497 - acc: 0.7002 - val_loss: 0.9202 - val_acc: 0.7061\n",
      "Epoch 229/300\n",
      "50000/50000 [==============================] - 0s 4us/step - loss: 0.9495 - acc: 0.7006 - val_loss: 0.9195 - val_acc: 0.7046\n",
      "Epoch 230/300\n",
      "50000/50000 [==============================] - 0s 4us/step - loss: 0.9494 - acc: 0.7004 - val_loss: 0.9194 - val_acc: 0.7034\n",
      "Epoch 231/300\n",
      "50000/50000 [==============================] - 0s 4us/step - loss: 0.9493 - acc: 0.7009 - val_loss: 0.9188 - val_acc: 0.7033\n",
      "Epoch 232/300\n",
      "50000/50000 [==============================] - 0s 4us/step - loss: 0.9491 - acc: 0.7002 - val_loss: 0.9214 - val_acc: 0.7009\n",
      "Epoch 233/300\n",
      "50000/50000 [==============================] - 0s 4us/step - loss: 0.9492 - acc: 0.6997 - val_loss: 0.9189 - val_acc: 0.7047\n",
      "Epoch 234/300\n",
      "50000/50000 [==============================] - 0s 4us/step - loss: 0.9490 - acc: 0.6999 - val_loss: 0.9226 - val_acc: 0.7032\n",
      "Epoch 235/300\n",
      "50000/50000 [==============================] - 0s 4us/step - loss: 0.9489 - acc: 0.7003 - val_loss: 0.9203 - val_acc: 0.7009\n",
      "Epoch 236/300\n",
      "50000/50000 [==============================] - 0s 4us/step - loss: 0.9489 - acc: 0.7000 - val_loss: 0.9209 - val_acc: 0.7049\n",
      "Epoch 237/300\n"
     ]
    },
    {
     "name": "stdout",
     "output_type": "stream",
     "text": [
      "50000/50000 [==============================] - 0s 4us/step - loss: 0.9488 - acc: 0.7007 - val_loss: 0.9180 - val_acc: 0.7033\n",
      "Epoch 238/300\n",
      "50000/50000 [==============================] - 0s 4us/step - loss: 0.9486 - acc: 0.7002 - val_loss: 0.9189 - val_acc: 0.7054\n",
      "Epoch 239/300\n",
      "50000/50000 [==============================] - 0s 4us/step - loss: 0.9486 - acc: 0.7002 - val_loss: 0.9192 - val_acc: 0.7055\n",
      "Epoch 240/300\n",
      "50000/50000 [==============================] - 0s 4us/step - loss: 0.9485 - acc: 0.7015 - val_loss: 0.9183 - val_acc: 0.7015\n",
      "Epoch 241/300\n",
      "50000/50000 [==============================] - 0s 4us/step - loss: 0.9483 - acc: 0.7004 - val_loss: 0.9213 - val_acc: 0.7030\n",
      "Epoch 242/300\n",
      "50000/50000 [==============================] - 0s 4us/step - loss: 0.9483 - acc: 0.7000 - val_loss: 0.9184 - val_acc: 0.7019\n",
      "Epoch 243/300\n",
      "50000/50000 [==============================] - 0s 4us/step - loss: 0.9483 - acc: 0.6996 - val_loss: 0.9179 - val_acc: 0.7021\n",
      "Epoch 244/300\n",
      "50000/50000 [==============================] - 0s 4us/step - loss: 0.9482 - acc: 0.7001 - val_loss: 0.9181 - val_acc: 0.7025\n",
      "Epoch 245/300\n",
      "50000/50000 [==============================] - 0s 4us/step - loss: 0.9481 - acc: 0.7007 - val_loss: 0.9192 - val_acc: 0.7057\n",
      "Epoch 246/300\n",
      "50000/50000 [==============================] - 0s 4us/step - loss: 0.9480 - acc: 0.7008 - val_loss: 0.9213 - val_acc: 0.7038\n",
      "Epoch 247/300\n",
      "50000/50000 [==============================] - 0s 4us/step - loss: 0.9478 - acc: 0.7000 - val_loss: 0.9176 - val_acc: 0.7025\n",
      "Epoch 248/300\n",
      "50000/50000 [==============================] - 0s 4us/step - loss: 0.9478 - acc: 0.7005 - val_loss: 0.9179 - val_acc: 0.7050\n",
      "Epoch 249/300\n",
      "50000/50000 [==============================] - 0s 4us/step - loss: 0.9478 - acc: 0.7012 - val_loss: 0.9205 - val_acc: 0.7022\n",
      "Epoch 250/300\n",
      "50000/50000 [==============================] - 0s 4us/step - loss: 0.9477 - acc: 0.7010 - val_loss: 0.9186 - val_acc: 0.7041\n",
      "Epoch 251/300\n",
      "50000/50000 [==============================] - 0s 4us/step - loss: 0.9475 - acc: 0.7005 - val_loss: 0.9185 - val_acc: 0.7032\n",
      "Epoch 252/300\n",
      "50000/50000 [==============================] - 0s 4us/step - loss: 0.9474 - acc: 0.7006 - val_loss: 0.9210 - val_acc: 0.7026\n",
      "Epoch 253/300\n",
      "50000/50000 [==============================] - 0s 4us/step - loss: 0.9472 - acc: 0.7008 - val_loss: 0.9166 - val_acc: 0.7040\n",
      "Epoch 254/300\n",
      "50000/50000 [==============================] - 0s 4us/step - loss: 0.9472 - acc: 0.7011 - val_loss: 0.9170 - val_acc: 0.7043\n",
      "Epoch 255/300\n",
      "50000/50000 [==============================] - 0s 4us/step - loss: 0.9472 - acc: 0.7000 - val_loss: 0.9250 - val_acc: 0.7012\n",
      "Epoch 256/300\n",
      "50000/50000 [==============================] - 0s 4us/step - loss: 0.9472 - acc: 0.7009 - val_loss: 0.9172 - val_acc: 0.7056\n",
      "Epoch 257/300\n",
      "50000/50000 [==============================] - 0s 4us/step - loss: 0.9470 - acc: 0.7015 - val_loss: 0.9187 - val_acc: 0.7038\n",
      "Epoch 258/300\n",
      "50000/50000 [==============================] - 0s 4us/step - loss: 0.9471 - acc: 0.7008 - val_loss: 0.9191 - val_acc: 0.7046\n",
      "Epoch 259/300\n",
      "50000/50000 [==============================] - 0s 4us/step - loss: 0.9469 - acc: 0.7004 - val_loss: 0.9176 - val_acc: 0.7057\n",
      "Epoch 260/300\n",
      "50000/50000 [==============================] - 0s 4us/step - loss: 0.9469 - acc: 0.7008 - val_loss: 0.9172 - val_acc: 0.7058\n",
      "Epoch 261/300\n",
      "50000/50000 [==============================] - 0s 4us/step - loss: 0.9466 - acc: 0.7006 - val_loss: 0.9167 - val_acc: 0.7014\n",
      "Epoch 262/300\n",
      "50000/50000 [==============================] - 0s 4us/step - loss: 0.9465 - acc: 0.7009 - val_loss: 0.9172 - val_acc: 0.7032\n",
      "Epoch 263/300\n",
      "50000/50000 [==============================] - 0s 4us/step - loss: 0.9465 - acc: 0.7006 - val_loss: 0.9225 - val_acc: 0.7009\n",
      "Epoch 264/300\n",
      "50000/50000 [==============================] - 0s 4us/step - loss: 0.9465 - acc: 0.7012 - val_loss: 0.9167 - val_acc: 0.7033\n",
      "Epoch 265/300\n",
      "50000/50000 [==============================] - 0s 4us/step - loss: 0.9463 - acc: 0.7004 - val_loss: 0.9182 - val_acc: 0.7036\n",
      "Epoch 266/300\n",
      "50000/50000 [==============================] - 0s 4us/step - loss: 0.9464 - acc: 0.7014 - val_loss: 0.9165 - val_acc: 0.7047\n",
      "Epoch 267/300\n",
      "50000/50000 [==============================] - 0s 4us/step - loss: 0.9462 - acc: 0.7008 - val_loss: 0.9172 - val_acc: 0.7034\n",
      "Epoch 268/300\n",
      "50000/50000 [==============================] - 0s 4us/step - loss: 0.9462 - acc: 0.7024 - val_loss: 0.9175 - val_acc: 0.7050\n",
      "Epoch 269/300\n",
      "50000/50000 [==============================] - 0s 4us/step - loss: 0.9461 - acc: 0.7014 - val_loss: 0.9181 - val_acc: 0.7044\n",
      "Epoch 270/300\n",
      "50000/50000 [==============================] - 0s 4us/step - loss: 0.9460 - acc: 0.7010 - val_loss: 0.9163 - val_acc: 0.7045\n",
      "Epoch 271/300\n",
      "50000/50000 [==============================] - 0s 4us/step - loss: 0.9459 - acc: 0.7011 - val_loss: 0.9160 - val_acc: 0.7043\n",
      "Epoch 272/300\n",
      "50000/50000 [==============================] - 0s 4us/step - loss: 0.9459 - acc: 0.7013 - val_loss: 0.9166 - val_acc: 0.7038\n",
      "Epoch 273/300\n",
      "50000/50000 [==============================] - 0s 4us/step - loss: 0.9458 - acc: 0.7006 - val_loss: 0.9171 - val_acc: 0.7027\n",
      "Epoch 274/300\n",
      "50000/50000 [==============================] - 0s 4us/step - loss: 0.9459 - acc: 0.7009 - val_loss: 0.9157 - val_acc: 0.7043\n",
      "Epoch 275/300\n",
      "50000/50000 [==============================] - 0s 4us/step - loss: 0.9454 - acc: 0.7016 - val_loss: 0.9183 - val_acc: 0.7039\n",
      "Epoch 276/300\n",
      "50000/50000 [==============================] - 0s 4us/step - loss: 0.9457 - acc: 0.7011 - val_loss: 0.9156 - val_acc: 0.7038\n",
      "Epoch 277/300\n",
      "50000/50000 [==============================] - 0s 4us/step - loss: 0.9454 - acc: 0.7006 - val_loss: 0.9150 - val_acc: 0.7050\n",
      "Epoch 278/300\n",
      "50000/50000 [==============================] - 0s 4us/step - loss: 0.9454 - acc: 0.7008 - val_loss: 0.9186 - val_acc: 0.7030\n",
      "Epoch 279/300\n",
      "50000/50000 [==============================] - 0s 4us/step - loss: 0.9454 - acc: 0.7019 - val_loss: 0.9164 - val_acc: 0.7067\n",
      "Epoch 280/300\n",
      "50000/50000 [==============================] - 0s 4us/step - loss: 0.9453 - acc: 0.7018 - val_loss: 0.9169 - val_acc: 0.7051\n",
      "Epoch 281/300\n",
      "50000/50000 [==============================] - 0s 4us/step - loss: 0.9454 - acc: 0.7018 - val_loss: 0.9165 - val_acc: 0.7039\n",
      "Epoch 282/300\n",
      "50000/50000 [==============================] - 0s 4us/step - loss: 0.9451 - acc: 0.7014 - val_loss: 0.9164 - val_acc: 0.7061\n",
      "Epoch 283/300\n",
      "50000/50000 [==============================] - 0s 4us/step - loss: 0.9452 - acc: 0.7015 - val_loss: 0.9162 - val_acc: 0.7042\n",
      "Epoch 284/300\n",
      "50000/50000 [==============================] - 0s 4us/step - loss: 0.9449 - acc: 0.7011 - val_loss: 0.9153 - val_acc: 0.7057\n",
      "Epoch 285/300\n",
      "50000/50000 [==============================] - 0s 4us/step - loss: 0.9448 - acc: 0.7011 - val_loss: 0.9155 - val_acc: 0.7040\n",
      "Epoch 286/300\n",
      "50000/50000 [==============================] - 0s 4us/step - loss: 0.9448 - acc: 0.7017 - val_loss: 0.9147 - val_acc: 0.7048\n",
      "Epoch 287/300\n",
      "50000/50000 [==============================] - 0s 4us/step - loss: 0.9447 - acc: 0.7019 - val_loss: 0.9165 - val_acc: 0.7050\n",
      "Epoch 288/300\n",
      "50000/50000 [==============================] - 0s 4us/step - loss: 0.9446 - acc: 0.7007 - val_loss: 0.9152 - val_acc: 0.7039\n",
      "Epoch 289/300\n",
      "50000/50000 [==============================] - 0s 4us/step - loss: 0.9445 - acc: 0.7013 - val_loss: 0.9144 - val_acc: 0.7062\n",
      "Epoch 290/300\n",
      "50000/50000 [==============================] - 0s 4us/step - loss: 0.9445 - acc: 0.7019 - val_loss: 0.9149 - val_acc: 0.7048\n",
      "Epoch 291/300\n",
      "50000/50000 [==============================] - 0s 4us/step - loss: 0.9444 - acc: 0.7018 - val_loss: 0.9148 - val_acc: 0.7057\n",
      "Epoch 292/300\n",
      "50000/50000 [==============================] - 0s 4us/step - loss: 0.9444 - acc: 0.7013 - val_loss: 0.9146 - val_acc: 0.7055\n",
      "Epoch 293/300\n",
      "50000/50000 [==============================] - 0s 4us/step - loss: 0.9443 - acc: 0.7018 - val_loss: 0.9174 - val_acc: 0.7050\n",
      "Epoch 294/300\n",
      "50000/50000 [==============================] - 0s 4us/step - loss: 0.9443 - acc: 0.7018 - val_loss: 0.9165 - val_acc: 0.7053\n",
      "Epoch 295/300\n",
      "50000/50000 [==============================] - 0s 4us/step - loss: 0.9441 - acc: 0.7016 - val_loss: 0.9165 - val_acc: 0.7034\n",
      "Epoch 296/300\n"
     ]
    },
    {
     "name": "stdout",
     "output_type": "stream",
     "text": [
      "50000/50000 [==============================] - 0s 4us/step - loss: 0.9443 - acc: 0.7020 - val_loss: 0.9174 - val_acc: 0.7046\n",
      "Epoch 297/300\n",
      "50000/50000 [==============================] - 0s 4us/step - loss: 0.9440 - acc: 0.7017 - val_loss: 0.9151 - val_acc: 0.7057\n",
      "Epoch 298/300\n",
      "50000/50000 [==============================] - 0s 4us/step - loss: 0.9440 - acc: 0.7012 - val_loss: 0.9147 - val_acc: 0.7061\n",
      "Epoch 299/300\n",
      "50000/50000 [==============================] - 0s 4us/step - loss: 0.9440 - acc: 0.7018 - val_loss: 0.9143 - val_acc: 0.7073\n",
      "Epoch 300/300\n",
      "50000/50000 [==============================] - 0s 4us/step - loss: 0.9438 - acc: 0.7022 - val_loss: 0.9201 - val_acc: 0.7030\n"
     ]
    }
   ],
   "source": [
    "hist = model.fit(x_train, y_train, epochs=300, batch_size=256, validation_data=(x_val, y_val))"
   ]
  },
  {
   "cell_type": "code",
   "execution_count": 38,
   "metadata": {},
   "outputs": [],
   "source": [
    "%matplotlib inline"
   ]
  },
  {
   "cell_type": "code",
   "execution_count": 39,
   "metadata": {},
   "outputs": [],
   "source": [
    "import matplotlib.pyplot as plt"
   ]
  },
  {
   "cell_type": "code",
   "execution_count": 46,
   "metadata": {},
   "outputs": [
    {
     "data": {
      "text/plain": [
       "<matplotlib.legend.Legend at 0x1f8441d87f0>"
      ]
     },
     "execution_count": 46,
     "metadata": {},
     "output_type": "execute_result"
    },
    {
     "data": {
      "image/png": "[encoded data removed]",
      "text/plain": [
       "<Figure size 432x288 with 2 Axes>"
      ]
     },
     "metadata": {
      "needs_background": "light"
     },
     "output_type": "display_data"
    }
   ],
   "source": [
    "fig, loss_ax = plt.subplots()\n",
    "\n",
    "acc_ax = loss_ax.twinx()\n",
    "\n",
    "loss_ax.plot(hist.history['loss'], 'y', label='train loss')\n",
    "loss_ax.plot(hist.history['val_loss'], 'r', label='val loss')\n",
    "\n",
    "acc_ax.plot(hist.history['acc'], 'b', label='train acc')\n",
    "acc_ax.plot(hist.history['val_acc'], 'g', label='val acc')\n",
    "\n",
    "loss_ax.set_xlabel('epoch')\n",
    "loss_ax.set_ylabel('loss')\n",
    "\n",
    "acc_ax.set_ylabel('accuracy')\n",
    "\n",
    "loss_ax.legend(loc='upper left')\n",
    "acc_ax.legend(loc='lower left')"
   ]
  },
  {
   "cell_type": "code",
   "execution_count": null,
   "metadata": {},
   "outputs": [],
   "source": []
  }
 ],
 "metadata": {
  "kernelspec": {
   "display_name": "Python 3",
   "language": "python",
   "name": "python3"
  },
  "language_info": {
   "codemirror_mode": {
    "name": "ipython",
    "version": 3
   },
   "file_extension": ".py",
   "mimetype": "text/x-python",
   "name": "python",
   "nbconvert_exporter": "python",
   "pygments_lexer": "ipython3",
   "version": "3.7.3"
  }
 },
 "nbformat": 4,
 "nbformat_minor": 2
}

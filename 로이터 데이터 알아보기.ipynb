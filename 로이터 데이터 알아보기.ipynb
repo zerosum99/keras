{
 "cells": [
  {
   "cell_type": "code",
   "execution_count": 1,
   "metadata": {},
   "outputs": [
    {
     "name": "stderr",
     "output_type": "stream",
     "text": [
      "Using TensorFlow backend.\n"
     ]
    }
   ],
   "source": [
    "import keras"
   ]
  },
  {
   "cell_type": "code",
   "execution_count": 2,
   "metadata": {},
   "outputs": [
    {
     "data": {
      "text/plain": [
       "'2.2.4'"
      ]
     },
     "execution_count": 2,
     "metadata": {},
     "output_type": "execute_result"
    }
   ],
   "source": [
    "keras.__version__"
   ]
  },
  {
   "cell_type": "markdown",
   "metadata": {},
   "source": [
    "# 1. 로이터 데이터 가져오기"
   ]
  },
  {
   "cell_type": "code",
   "execution_count": 3,
   "metadata": {},
   "outputs": [],
   "source": [
    "from keras.datasets import reuters"
   ]
  },
  {
   "cell_type": "code",
   "execution_count": 4,
   "metadata": {},
   "outputs": [
    {
     "data": {
      "text/plain": [
       "['__builtins__',\n",
       " '__cached__',\n",
       " '__doc__',\n",
       " '__file__',\n",
       " '__loader__',\n",
       " '__name__',\n",
       " '__package__',\n",
       " '__spec__',\n",
       " '_remove_long_seq',\n",
       " 'absolute_import',\n",
       " 'division',\n",
       " 'get_file',\n",
       " 'get_word_index',\n",
       " 'json',\n",
       " 'load_data',\n",
       " 'np',\n",
       " 'print_function',\n",
       " 'warnings']"
      ]
     },
     "execution_count": 4,
     "metadata": {},
     "output_type": "execute_result"
    }
   ],
   "source": [
    "dir(reuters)"
   ]
  },
  {
   "cell_type": "markdown",
   "metadata": {},
   "source": [
    "##  pickle 처리 오류 \n",
    "\n",
    "\n",
    " - ValueError: Object arrays cannot be loaded when allow_pickle=False\n",
    " \n",
    " - nympy 버전을 1.16.3 이하로 유지하고 np.load 함수를 람다함수로 수정해서 처리해야 함"
   ]
  },
  {
   "cell_type": "code",
   "execution_count": 5,
   "metadata": {},
   "outputs": [],
   "source": [
    "import numpy as np"
   ]
  },
  {
   "cell_type": "code",
   "execution_count": 6,
   "metadata": {},
   "outputs": [],
   "source": [
    "old = np.load\n",
    "np.load = lambda *a,**k: old(*a,**k,allow_pickle=True)"
   ]
  },
  {
   "cell_type": "code",
   "execution_count": 7,
   "metadata": {},
   "outputs": [],
   "source": [
    "(train_data, train_labels), (test_data, test_labels) = reuters.load_data(num_words=10000)"
   ]
  },
  {
   "cell_type": "code",
   "execution_count": 8,
   "metadata": {},
   "outputs": [],
   "source": [
    "np.load = old"
   ]
  },
  {
   "cell_type": "markdown",
   "metadata": {},
   "source": [
    "## 다차원 배열 내의 원소가 리스트"
   ]
  },
  {
   "cell_type": "code",
   "execution_count": 9,
   "metadata": {},
   "outputs": [
    {
     "data": {
      "text/plain": [
       "(8982,)"
      ]
     },
     "execution_count": 9,
     "metadata": {},
     "output_type": "execute_result"
    }
   ],
   "source": [
    "train_data.shape"
   ]
  },
  {
   "cell_type": "code",
   "execution_count": 10,
   "metadata": {},
   "outputs": [
    {
     "data": {
      "text/plain": [
       "list"
      ]
     },
     "execution_count": 10,
     "metadata": {},
     "output_type": "execute_result"
    }
   ],
   "source": [
    "type(train_data[0])"
   ]
  },
  {
   "cell_type": "code",
   "execution_count": 11,
   "metadata": {},
   "outputs": [
    {
     "data": {
      "text/plain": [
       "(8982,)"
      ]
     },
     "execution_count": 11,
     "metadata": {},
     "output_type": "execute_result"
    }
   ],
   "source": [
    "train_labels.shape"
   ]
  },
  {
   "cell_type": "code",
   "execution_count": 12,
   "metadata": {},
   "outputs": [
    {
     "data": {
      "text/plain": [
       "numpy.ndarray"
      ]
     },
     "execution_count": 12,
     "metadata": {},
     "output_type": "execute_result"
    }
   ],
   "source": [
    "type(train_labels)"
   ]
  },
  {
   "cell_type": "code",
   "execution_count": 13,
   "metadata": {},
   "outputs": [
    {
     "data": {
      "text/plain": [
       "3"
      ]
     },
     "execution_count": 13,
     "metadata": {},
     "output_type": "execute_result"
    }
   ],
   "source": [
    "train_labels[0]"
   ]
  },
  {
   "cell_type": "markdown",
   "metadata": {},
   "source": [
    "## 실제 데이터 정보 확인하기\n",
    "\n",
    "- 영어 단어들이 어떤 인덱스로 구성된 지를 확인한다"
   ]
  },
  {
   "cell_type": "code",
   "execution_count": 14,
   "metadata": {},
   "outputs": [],
   "source": [
    "word = reuters.get_word_index()"
   ]
  },
  {
   "cell_type": "code",
   "execution_count": 15,
   "metadata": {},
   "outputs": [
    {
     "data": {
      "text/plain": [
       "type"
      ]
     },
     "execution_count": 15,
     "metadata": {},
     "output_type": "execute_result"
    }
   ],
   "source": [
    "type(dict)"
   ]
  },
  {
   "cell_type": "code",
   "execution_count": 16,
   "metadata": {},
   "outputs": [
    {
     "data": {
      "text/plain": [
       "30979"
      ]
     },
     "execution_count": 16,
     "metadata": {},
     "output_type": "execute_result"
    }
   ],
   "source": [
    "len(word)"
   ]
  },
  {
   "cell_type": "code",
   "execution_count": 17,
   "metadata": {},
   "outputs": [
    {
     "data": {
      "text/plain": [
       "['mdbl', 'fawc', 'degussa']"
      ]
     },
     "execution_count": 17,
     "metadata": {},
     "output_type": "execute_result"
    }
   ],
   "source": [
    "[*word.keys()][:3]"
   ]
  },
  {
   "cell_type": "markdown",
   "metadata": {},
   "source": [
    "###  내부의 키와 값을 스와핑하기"
   ]
  },
  {
   "cell_type": "code",
   "execution_count": 18,
   "metadata": {},
   "outputs": [],
   "source": [
    "reverse_word = [(v,k) for k,v in word.items()]"
   ]
  },
  {
   "cell_type": "code",
   "execution_count": 19,
   "metadata": {},
   "outputs": [
    {
     "data": {
      "text/plain": [
       "[(10996, 'mdbl'), (16260, 'fawc'), (12089, 'degussa')]"
      ]
     },
     "execution_count": 19,
     "metadata": {},
     "output_type": "execute_result"
    }
   ],
   "source": [
    "reverse_word[:3]"
   ]
  },
  {
   "cell_type": "code",
   "execution_count": 20,
   "metadata": {},
   "outputs": [],
   "source": [
    "reverse_word = dict(reverse_word)"
   ]
  },
  {
   "cell_type": "code",
   "execution_count": 21,
   "metadata": {},
   "outputs": [
    {
     "data": {
      "text/plain": [
       "dict"
      ]
     },
     "execution_count": 21,
     "metadata": {},
     "output_type": "execute_result"
    }
   ],
   "source": [
    "type(reverse_word)"
   ]
  },
  {
   "cell_type": "code",
   "execution_count": 22,
   "metadata": {},
   "outputs": [
    {
     "data": {
      "text/plain": [
       "[(10996, 'mdbl'), (16260, 'fawc'), (12089, 'degussa')]"
      ]
     },
     "execution_count": 22,
     "metadata": {},
     "output_type": "execute_result"
    }
   ],
   "source": [
    "[*reverse_word.items()][:3]"
   ]
  },
  {
   "cell_type": "markdown",
   "metadata": {},
   "source": [
    "## 판다스로 변환할 때 에러 발생\n",
    "\n",
    "- index=[0] 으로 인자를 전달할 것 "
   ]
  },
  {
   "cell_type": "code",
   "execution_count": 23,
   "metadata": {},
   "outputs": [],
   "source": [
    "import pandas as pd"
   ]
  },
  {
   "cell_type": "code",
   "execution_count": 24,
   "metadata": {},
   "outputs": [],
   "source": [
    "df_words = pd.DataFrame(word, index = [0])"
   ]
  },
  {
   "cell_type": "code",
   "execution_count": 25,
   "metadata": {},
   "outputs": [
    {
     "data": {
      "text/html": [
       "<div>\n",
       "<style scoped>\n",
       "    .dataframe tbody tr th:only-of-type {\n",
       "        vertical-align: middle;\n",
       "    }\n",
       "\n",
       "    .dataframe tbody tr th {\n",
       "        vertical-align: top;\n",
       "    }\n",
       "\n",
       "    .dataframe thead th {\n",
       "        text-align: right;\n",
       "    }\n",
       "</style>\n",
       "<table border=\"1\" class=\"dataframe\">\n",
       "  <thead>\n",
       "    <tr style=\"text-align: right;\">\n",
       "      <th></th>\n",
       "      <th>mdbl</th>\n",
       "      <th>fawc</th>\n",
       "      <th>degussa</th>\n",
       "      <th>woods</th>\n",
       "      <th>hanging</th>\n",
       "      <th>localized</th>\n",
       "      <th>sation</th>\n",
       "      <th>chanthaburi</th>\n",
       "      <th>refunding</th>\n",
       "      <th>hermann</th>\n",
       "      <th>...</th>\n",
       "      <th>withstood</th>\n",
       "      <th>illegally</th>\n",
       "      <th>june</th>\n",
       "      <th>jung</th>\n",
       "      <th>may's</th>\n",
       "      <th>rotting</th>\n",
       "      <th>pods</th>\n",
       "      <th>emery</th>\n",
       "      <th>northerly</th>\n",
       "      <th>onomichi</th>\n",
       "    </tr>\n",
       "  </thead>\n",
       "  <tbody>\n",
       "    <tr>\n",
       "      <th>0</th>\n",
       "      <td>10996</td>\n",
       "      <td>16260</td>\n",
       "      <td>12089</td>\n",
       "      <td>8803</td>\n",
       "      <td>13796</td>\n",
       "      <td>20672</td>\n",
       "      <td>20673</td>\n",
       "      <td>20675</td>\n",
       "      <td>10997</td>\n",
       "      <td>8804</td>\n",
       "      <td>...</td>\n",
       "      <td>30961</td>\n",
       "      <td>8469</td>\n",
       "      <td>249</td>\n",
       "      <td>30978</td>\n",
       "      <td>10065</td>\n",
       "      <td>16258</td>\n",
       "      <td>10995</td>\n",
       "      <td>2849</td>\n",
       "      <td>30979</td>\n",
       "      <td>16259</td>\n",
       "    </tr>\n",
       "  </tbody>\n",
       "</table>\n",
       "<p>1 rows × 30979 columns</p>\n",
       "</div>"
      ],
      "text/plain": [
       "    mdbl   fawc  degussa  woods  hanging  localized  sation  chanthaburi  \\\n",
       "0  10996  16260    12089   8803    13796      20672   20673        20675   \n",
       "\n",
       "   refunding  hermann  ...  withstood  illegally  june   jung  may's  rotting  \\\n",
       "0      10997     8804  ...      30961       8469   249  30978  10065    16258   \n",
       "\n",
       "    pods  emery  northerly  onomichi  \n",
       "0  10995   2849      30979     16259  \n",
       "\n",
       "[1 rows x 30979 columns]"
      ]
     },
     "execution_count": 25,
     "metadata": {},
     "output_type": "execute_result"
    }
   ],
   "source": [
    "df_words.head()"
   ]
  },
  {
   "cell_type": "code",
   "execution_count": 26,
   "metadata": {},
   "outputs": [],
   "source": [
    "df_words_un = df_words.unstack()"
   ]
  },
  {
   "cell_type": "code",
   "execution_count": 27,
   "metadata": {},
   "outputs": [
    {
     "data": {
      "text/plain": [
       "mdbl     0    10996\n",
       "fawc     0    16260\n",
       "degussa  0    12089\n",
       "woods    0     8803\n",
       "hanging  0    13796\n",
       "dtype: int64"
      ]
     },
     "execution_count": 27,
     "metadata": {},
     "output_type": "execute_result"
    }
   ],
   "source": [
    "df_words_un.head()"
   ]
  },
  {
   "cell_type": "code",
   "execution_count": 28,
   "metadata": {},
   "outputs": [],
   "source": [
    "df_words_v = df_words_un.to_frame()"
   ]
  },
  {
   "cell_type": "code",
   "execution_count": 29,
   "metadata": {},
   "outputs": [],
   "source": [
    "df_words_v = df_words_v.reset_index()"
   ]
  },
  {
   "cell_type": "code",
   "execution_count": 30,
   "metadata": {},
   "outputs": [
    {
     "data": {
      "text/html": [
       "<div>\n",
       "<style scoped>\n",
       "    .dataframe tbody tr th:only-of-type {\n",
       "        vertical-align: middle;\n",
       "    }\n",
       "\n",
       "    .dataframe tbody tr th {\n",
       "        vertical-align: top;\n",
       "    }\n",
       "\n",
       "    .dataframe thead th {\n",
       "        text-align: right;\n",
       "    }\n",
       "</style>\n",
       "<table border=\"1\" class=\"dataframe\">\n",
       "  <thead>\n",
       "    <tr style=\"text-align: right;\">\n",
       "      <th></th>\n",
       "      <th>level_0</th>\n",
       "      <th>level_1</th>\n",
       "      <th>0</th>\n",
       "    </tr>\n",
       "  </thead>\n",
       "  <tbody>\n",
       "    <tr>\n",
       "      <th>0</th>\n",
       "      <td>mdbl</td>\n",
       "      <td>0</td>\n",
       "      <td>10996</td>\n",
       "    </tr>\n",
       "    <tr>\n",
       "      <th>1</th>\n",
       "      <td>fawc</td>\n",
       "      <td>0</td>\n",
       "      <td>16260</td>\n",
       "    </tr>\n",
       "    <tr>\n",
       "      <th>2</th>\n",
       "      <td>degussa</td>\n",
       "      <td>0</td>\n",
       "      <td>12089</td>\n",
       "    </tr>\n",
       "    <tr>\n",
       "      <th>3</th>\n",
       "      <td>woods</td>\n",
       "      <td>0</td>\n",
       "      <td>8803</td>\n",
       "    </tr>\n",
       "    <tr>\n",
       "      <th>4</th>\n",
       "      <td>hanging</td>\n",
       "      <td>0</td>\n",
       "      <td>13796</td>\n",
       "    </tr>\n",
       "  </tbody>\n",
       "</table>\n",
       "</div>"
      ],
      "text/plain": [
       "   level_0  level_1      0\n",
       "0     mdbl        0  10996\n",
       "1     fawc        0  16260\n",
       "2  degussa        0  12089\n",
       "3    woods        0   8803\n",
       "4  hanging        0  13796"
      ]
     },
     "execution_count": 30,
     "metadata": {},
     "output_type": "execute_result"
    }
   ],
   "source": [
    "df_words_v.head()"
   ]
  },
  {
   "cell_type": "code",
   "execution_count": 31,
   "metadata": {},
   "outputs": [],
   "source": [
    "df_words_v = df_words_v.drop(['level_1'], axis=1)"
   ]
  },
  {
   "cell_type": "code",
   "execution_count": 32,
   "metadata": {},
   "outputs": [],
   "source": [
    "df_words_v.columns = ['words','index' ]"
   ]
  },
  {
   "cell_type": "code",
   "execution_count": 33,
   "metadata": {},
   "outputs": [
    {
     "data": {
      "text/html": [
       "<div>\n",
       "<style scoped>\n",
       "    .dataframe tbody tr th:only-of-type {\n",
       "        vertical-align: middle;\n",
       "    }\n",
       "\n",
       "    .dataframe tbody tr th {\n",
       "        vertical-align: top;\n",
       "    }\n",
       "\n",
       "    .dataframe thead th {\n",
       "        text-align: right;\n",
       "    }\n",
       "</style>\n",
       "<table border=\"1\" class=\"dataframe\">\n",
       "  <thead>\n",
       "    <tr style=\"text-align: right;\">\n",
       "      <th></th>\n",
       "      <th>words</th>\n",
       "      <th>index</th>\n",
       "    </tr>\n",
       "  </thead>\n",
       "  <tbody>\n",
       "    <tr>\n",
       "      <th>0</th>\n",
       "      <td>mdbl</td>\n",
       "      <td>10996</td>\n",
       "    </tr>\n",
       "    <tr>\n",
       "      <th>1</th>\n",
       "      <td>fawc</td>\n",
       "      <td>16260</td>\n",
       "    </tr>\n",
       "    <tr>\n",
       "      <th>2</th>\n",
       "      <td>degussa</td>\n",
       "      <td>12089</td>\n",
       "    </tr>\n",
       "    <tr>\n",
       "      <th>3</th>\n",
       "      <td>woods</td>\n",
       "      <td>8803</td>\n",
       "    </tr>\n",
       "    <tr>\n",
       "      <th>4</th>\n",
       "      <td>hanging</td>\n",
       "      <td>13796</td>\n",
       "    </tr>\n",
       "  </tbody>\n",
       "</table>\n",
       "</div>"
      ],
      "text/plain": [
       "     words  index\n",
       "0     mdbl  10996\n",
       "1     fawc  16260\n",
       "2  degussa  12089\n",
       "3    woods   8803\n",
       "4  hanging  13796"
      ]
     },
     "execution_count": 33,
     "metadata": {},
     "output_type": "execute_result"
    }
   ],
   "source": [
    "df_words_v.head()"
   ]
  },
  {
   "cell_type": "code",
   "execution_count": 34,
   "metadata": {},
   "outputs": [
    {
     "data": {
      "text/plain": [
       "(30979, 2)"
      ]
     },
     "execution_count": 34,
     "metadata": {},
     "output_type": "execute_result"
    }
   ],
   "source": [
    "df_words_v.shape"
   ]
  },
  {
   "cell_type": "code",
   "execution_count": 35,
   "metadata": {},
   "outputs": [
    {
     "data": {
      "text/plain": [
       "30979"
      ]
     },
     "execution_count": 35,
     "metadata": {},
     "output_type": "execute_result"
    }
   ],
   "source": [
    "df_words_v['index'].value_counts().count()"
   ]
  },
  {
   "cell_type": "markdown",
   "metadata": {},
   "source": [
    "## 훈련 데이터를 영어로 변환해 보기"
   ]
  },
  {
   "cell_type": "code",
   "execution_count": 36,
   "metadata": {},
   "outputs": [],
   "source": [
    "decoded_new = \" \".join([reverse_word.get(i, '?') for i in train_data[0]])"
   ]
  },
  {
   "cell_type": "code",
   "execution_count": 37,
   "metadata": {},
   "outputs": [
    {
     "data": {
      "text/plain": [
       "'the of of mln loss for plc said at only ended said commonwealth could 1 traders now april 0 a after said from 1985 and from foreign 000 april 0 prices its account year a but in this mln home an states earlier and rise and revs vs 000 its 16 vs 000 a but 3 psbr oils several and shareholders and dividend vs 000 its all 4 vs 000 1 mln agreed largely april 0 are 2 states will billion total and against 000 pct dlrs'"
      ]
     },
     "execution_count": 37,
     "metadata": {},
     "output_type": "execute_result"
    }
   ],
   "source": [
    "decoded_new"
   ]
  },
  {
   "cell_type": "markdown",
   "metadata": {},
   "source": [
    "### 0,1,2 인덱스에 있는 단어는 패딩, 문서시작, 사전에 없음을 보관하므로 3을 빼고 처리해야 함"
   ]
  },
  {
   "cell_type": "code",
   "execution_count": 38,
   "metadata": {},
   "outputs": [],
   "source": [
    "decoded_news = \" \".join([reverse_word.get(i-3,  '?') for i in train_data[0]])"
   ]
  },
  {
   "cell_type": "code",
   "execution_count": 39,
   "metadata": {},
   "outputs": [
    {
     "data": {
      "text/plain": [
       "'? ? ? said as a result of its december acquisition of space co it expects earnings per share in 1987 of 1 15 to 1 30 dlrs per share up from 70 cts in 1986 the company said pretax net should rise to nine to 10 mln dlrs from six mln dlrs in 1986 and rental operation revenues to 19 to 22 mln dlrs from 12 5 mln dlrs it said cash flow per share this year should be 2 50 to three dlrs reuter 3'"
      ]
     },
     "execution_count": 39,
     "metadata": {},
     "output_type": "execute_result"
    }
   ],
   "source": [
    "decoded_news"
   ]
  },
  {
   "cell_type": "markdown",
   "metadata": {},
   "source": [
    "# 2. 데이터 준비하기"
   ]
  },
  {
   "cell_type": "code",
   "execution_count": 40,
   "metadata": {},
   "outputs": [],
   "source": [
    "def vectorize_sequence(sequences, dimension=10000) :\n",
    "    results = np.zeros((len(sequences), dimension))\n",
    "    print(\"zeros shape\", results.shape)\n",
    "    \n",
    "    for i, seq  in enumerate(sequences) :\n",
    "        results[i, seq] = 1.\n",
    "    return results"
   ]
  },
  {
   "cell_type": "markdown",
   "metadata": {},
   "source": [
    "## 훈련데이터를 변환\n",
    "\n",
    "- 각 행이 리스트 데이터를 인덱스로 해서 1을 세팅 "
   ]
  },
  {
   "cell_type": "code",
   "execution_count": 41,
   "metadata": {},
   "outputs": [
    {
     "data": {
      "text/plain": [
       "[1, 2, 2, 8, 43]"
      ]
     },
     "execution_count": 41,
     "metadata": {},
     "output_type": "execute_result"
    }
   ],
   "source": [
    "train_data[0][:5]"
   ]
  },
  {
   "cell_type": "code",
   "execution_count": 42,
   "metadata": {},
   "outputs": [
    {
     "name": "stdout",
     "output_type": "stream",
     "text": [
      "zeros shape (8982, 10000)\n"
     ]
    }
   ],
   "source": [
    "x_train = vectorize_sequence(train_data)"
   ]
  },
  {
   "cell_type": "code",
   "execution_count": 43,
   "metadata": {},
   "outputs": [
    {
     "data": {
      "text/plain": [
       "(8982, 10000)"
      ]
     },
     "execution_count": 43,
     "metadata": {},
     "output_type": "execute_result"
    }
   ],
   "source": [
    "x_train.shape"
   ]
  },
  {
   "cell_type": "code",
   "execution_count": 44,
   "metadata": {},
   "outputs": [
    {
     "data": {
      "text/plain": [
       "array([0., 1., 1., ..., 0., 0., 0.])"
      ]
     },
     "execution_count": 44,
     "metadata": {},
     "output_type": "execute_result"
    }
   ],
   "source": [
    "x_train[0]"
   ]
  },
  {
   "cell_type": "markdown",
   "metadata": {},
   "source": [
    "## 테스트 데이터 변환 "
   ]
  },
  {
   "cell_type": "code",
   "execution_count": 45,
   "metadata": {},
   "outputs": [
    {
     "name": "stdout",
     "output_type": "stream",
     "text": [
      "zeros shape (2246, 10000)\n"
     ]
    }
   ],
   "source": [
    "x_test = vectorize_sequence(test_data)"
   ]
  },
  {
   "cell_type": "markdown",
   "metadata": {},
   "source": [
    "## 레이블 데이터 변환"
   ]
  },
  {
   "cell_type": "code",
   "execution_count": 46,
   "metadata": {},
   "outputs": [],
   "source": [
    "from keras.utils.np_utils import to_categorical"
   ]
  },
  {
   "cell_type": "markdown",
   "metadata": {},
   "source": [
    "### 레이블 데이터는 0부터 45까지 총 46개의 범주로 구성"
   ]
  },
  {
   "cell_type": "code",
   "execution_count": 53,
   "metadata": {},
   "outputs": [],
   "source": [
    "tr = pd.Series(train_labels)"
   ]
  },
  {
   "cell_type": "code",
   "execution_count": 55,
   "metadata": {},
   "outputs": [
    {
     "data": {
      "text/plain": [
       "46"
      ]
     },
     "execution_count": 55,
     "metadata": {},
     "output_type": "execute_result"
    }
   ],
   "source": [
    "tr.value_counts().count()"
   ]
  },
  {
   "cell_type": "code",
   "execution_count": 49,
   "metadata": {},
   "outputs": [
    {
     "data": {
      "text/plain": [
       "3"
      ]
     },
     "execution_count": 49,
     "metadata": {},
     "output_type": "execute_result"
    }
   ],
   "source": [
    "train_labels[0]"
   ]
  },
  {
   "cell_type": "markdown",
   "metadata": {},
   "source": [
    "### 1번 축을 46개로 확대"
   ]
  },
  {
   "cell_type": "code",
   "execution_count": 47,
   "metadata": {},
   "outputs": [],
   "source": [
    "one_hot_train_labels = to_categorical(train_labels)"
   ]
  },
  {
   "cell_type": "code",
   "execution_count": 50,
   "metadata": {},
   "outputs": [
    {
     "data": {
      "text/plain": [
       "array([0., 0., 0., 1., 0., 0., 0., 0., 0., 0., 0., 0., 0., 0., 0., 0., 0.,\n",
       "       0., 0., 0., 0., 0., 0., 0., 0., 0., 0., 0., 0., 0., 0., 0., 0., 0.,\n",
       "       0., 0., 0., 0., 0., 0., 0., 0., 0., 0., 0., 0.], dtype=float32)"
      ]
     },
     "execution_count": 50,
     "metadata": {},
     "output_type": "execute_result"
    }
   ],
   "source": [
    "one_hot_train_labels[0]"
   ]
  },
  {
   "cell_type": "code",
   "execution_count": 51,
   "metadata": {},
   "outputs": [
    {
     "data": {
      "text/plain": [
       "(8982, 46)"
      ]
     },
     "execution_count": 51,
     "metadata": {},
     "output_type": "execute_result"
    }
   ],
   "source": [
    "one_hot_train_labels.shape"
   ]
  },
  {
   "cell_type": "code",
   "execution_count": 48,
   "metadata": {},
   "outputs": [],
   "source": [
    "one_hot_test_labels = to_categorical(test_labels)"
   ]
  },
  {
   "cell_type": "code",
   "execution_count": 52,
   "metadata": {},
   "outputs": [
    {
     "data": {
      "text/plain": [
       "(2246, 46)"
      ]
     },
     "execution_count": 52,
     "metadata": {},
     "output_type": "execute_result"
    }
   ],
   "source": [
    "one_hot_test_labels.shape"
   ]
  },
  {
   "cell_type": "markdown",
   "metadata": {},
   "source": [
    "# 3. 모델 구성"
   ]
  },
  {
   "cell_type": "markdown",
   "metadata": {},
   "source": [
    "## 모델을 생성"
   ]
  },
  {
   "cell_type": "code",
   "execution_count": 57,
   "metadata": {},
   "outputs": [],
   "source": [
    "from keras import models, layers"
   ]
  },
  {
   "cell_type": "code",
   "execution_count": 58,
   "metadata": {},
   "outputs": [],
   "source": [
    "model = models.Sequential()"
   ]
  },
  {
   "cell_type": "code",
   "execution_count": 60,
   "metadata": {},
   "outputs": [
    {
     "name": "stdout",
     "output_type": "stream",
     "text": [
      "WARNING:tensorflow:From /Users/dahlmoon/anaconda/lib/python3.7/site-packages/tensorflow/python/framework/op_def_library.py:263: colocate_with (from tensorflow.python.framework.ops) is deprecated and will be removed in a future version.\n",
      "Instructions for updating:\n",
      "Colocations handled automatically by placer.\n"
     ]
    }
   ],
   "source": [
    "model.add(layers.Dense(64, activation='relu', input_shape=(10000,)))"
   ]
  },
  {
   "cell_type": "code",
   "execution_count": 61,
   "metadata": {},
   "outputs": [],
   "source": [
    "model.add(layers.Dense(64, activation='relu'))"
   ]
  },
  {
   "cell_type": "code",
   "execution_count": 62,
   "metadata": {},
   "outputs": [],
   "source": [
    "model.add(layers.Dense(46, activation='softmax'))"
   ]
  },
  {
   "cell_type": "markdown",
   "metadata": {},
   "source": [
    "## 모델 컴파일 하기"
   ]
  },
  {
   "cell_type": "code",
   "execution_count": 64,
   "metadata": {},
   "outputs": [],
   "source": [
    "model.compile(optimizer='rmsprop', loss='categorical_crossentropy', metrics=['accuracy'])"
   ]
  },
  {
   "cell_type": "markdown",
   "metadata": {},
   "source": [
    "# 4. 훈련 검증"
   ]
  },
  {
   "cell_type": "markdown",
   "metadata": {},
   "source": [
    "## 훈련과 검증 데이터 분리"
   ]
  },
  {
   "cell_type": "code",
   "execution_count": 65,
   "metadata": {},
   "outputs": [],
   "source": [
    "x_val = x_train[:1000]"
   ]
  },
  {
   "cell_type": "code",
   "execution_count": 66,
   "metadata": {},
   "outputs": [],
   "source": [
    "partial_x_train = x_train[1000:]"
   ]
  },
  {
   "cell_type": "code",
   "execution_count": 67,
   "metadata": {},
   "outputs": [],
   "source": [
    "y_val = one_hot_train_labels[:1000]"
   ]
  },
  {
   "cell_type": "code",
   "execution_count": 68,
   "metadata": {},
   "outputs": [],
   "source": [
    "partial_y_train = one_hot_train_labels[1000:]"
   ]
  },
  {
   "cell_type": "markdown",
   "metadata": {},
   "source": [
    "## 에포크 20 으로 훈련하기"
   ]
  },
  {
   "cell_type": "code",
   "execution_count": 69,
   "metadata": {},
   "outputs": [
    {
     "name": "stdout",
     "output_type": "stream",
     "text": [
      "WARNING:tensorflow:From /Users/dahlmoon/anaconda/lib/python3.7/site-packages/tensorflow/python/ops/math_ops.py:3066: to_int32 (from tensorflow.python.ops.math_ops) is deprecated and will be removed in a future version.\n",
      "Instructions for updating:\n",
      "Use tf.cast instead.\n",
      "Train on 7982 samples, validate on 1000 samples\n",
      "Epoch 1/20\n",
      "7982/7982 [==============================] - 1s 140us/step - loss: 2.5322 - acc: 0.4955 - val_loss: 1.7208 - val_acc: 0.6120\n",
      "Epoch 2/20\n",
      "7982/7982 [==============================] - 1s 83us/step - loss: 1.4452 - acc: 0.6879 - val_loss: 1.3459 - val_acc: 0.7060\n",
      "Epoch 3/20\n",
      "7982/7982 [==============================] - 1s 81us/step - loss: 1.0953 - acc: 0.7651 - val_loss: 1.1708 - val_acc: 0.7430\n",
      "Epoch 4/20\n",
      "7982/7982 [==============================] - 1s 83us/step - loss: 0.8697 - acc: 0.8165 - val_loss: 1.0793 - val_acc: 0.7590\n",
      "Epoch 5/20\n",
      "7982/7982 [==============================] - 1s 86us/step - loss: 0.7034 - acc: 0.8472 - val_loss: 0.9844 - val_acc: 0.7810\n",
      "Epoch 6/20\n",
      "7982/7982 [==============================] - 1s 81us/step - loss: 0.5667 - acc: 0.8802 - val_loss: 0.9411 - val_acc: 0.8040\n",
      "Epoch 7/20\n",
      "7982/7982 [==============================] - 1s 80us/step - loss: 0.4581 - acc: 0.9048 - val_loss: 0.9083 - val_acc: 0.8020\n",
      "Epoch 8/20\n",
      "7982/7982 [==============================] - 1s 86us/step - loss: 0.3695 - acc: 0.9231 - val_loss: 0.9363 - val_acc: 0.7890\n",
      "Epoch 9/20\n",
      "7982/7982 [==============================] - 1s 82us/step - loss: 0.3032 - acc: 0.9315 - val_loss: 0.8917 - val_acc: 0.8090\n",
      "Epoch 10/20\n",
      "7982/7982 [==============================] - 1s 83us/step - loss: 0.2537 - acc: 0.9414 - val_loss: 0.9071 - val_acc: 0.8110\n",
      "Epoch 11/20\n",
      "7982/7982 [==============================] - 1s 82us/step - loss: 0.2187 - acc: 0.9471 - val_loss: 0.9177 - val_acc: 0.8130\n",
      "Epoch 12/20\n",
      "7982/7982 [==============================] - 1s 81us/step - loss: 0.1873 - acc: 0.9508 - val_loss: 0.9027 - val_acc: 0.8130\n",
      "Epoch 13/20\n",
      "7982/7982 [==============================] - 1s 82us/step - loss: 0.1703 - acc: 0.9521 - val_loss: 0.9323 - val_acc: 0.8110\n",
      "Epoch 14/20\n",
      "7982/7982 [==============================] - 1s 80us/step - loss: 0.1536 - acc: 0.9554 - val_loss: 0.9689 - val_acc: 0.8050\n",
      "Epoch 15/20\n",
      "7982/7982 [==============================] - 1s 81us/step - loss: 0.1390 - acc: 0.9560 - val_loss: 0.9686 - val_acc: 0.8150\n",
      "Epoch 16/20\n",
      "7982/7982 [==============================] - 1s 82us/step - loss: 0.1313 - acc: 0.9560 - val_loss: 1.0220 - val_acc: 0.8060\n",
      "Epoch 17/20\n",
      "7982/7982 [==============================] - 1s 82us/step - loss: 0.1217 - acc: 0.9579 - val_loss: 1.0254 - val_acc: 0.7970\n",
      "Epoch 18/20\n",
      "7982/7982 [==============================] - 1s 83us/step - loss: 0.1198 - acc: 0.9582 - val_loss: 1.0430 - val_acc: 0.8060\n",
      "Epoch 19/20\n",
      "7982/7982 [==============================] - 1s 81us/step - loss: 0.1138 - acc: 0.9597 - val_loss: 1.0955 - val_acc: 0.7970\n",
      "Epoch 20/20\n",
      "7982/7982 [==============================] - 1s 82us/step - loss: 0.1111 - acc: 0.9593 - val_loss: 1.0674 - val_acc: 0.8020\n"
     ]
    }
   ],
   "source": [
    "history = model.fit(partial_x_train, partial_y_train, epochs=20, batch_size=512, validation_data=(x_val, y_val))"
   ]
  },
  {
   "cell_type": "markdown",
   "metadata": {},
   "source": [
    "## 훈련 및 검증 손실 그리기"
   ]
  },
  {
   "cell_type": "code",
   "execution_count": 70,
   "metadata": {},
   "outputs": [],
   "source": [
    "import matplotlib.pyplot as plt"
   ]
  },
  {
   "cell_type": "code",
   "execution_count": 71,
   "metadata": {},
   "outputs": [],
   "source": [
    "%matplotlib inline"
   ]
  },
  {
   "cell_type": "markdown",
   "metadata": {},
   "source": [
    "###  훈련 및 검증 데잍 확인하기"
   ]
  },
  {
   "cell_type": "code",
   "execution_count": 72,
   "metadata": {},
   "outputs": [
    {
     "data": {
      "text/plain": [
       "<keras.callbacks.History at 0xb2b5b3048>"
      ]
     },
     "execution_count": 72,
     "metadata": {},
     "output_type": "execute_result"
    }
   ],
   "source": [
    "history"
   ]
  },
  {
   "cell_type": "code",
   "execution_count": 74,
   "metadata": {},
   "outputs": [],
   "source": [
    "his_df = pd.DataFrame(history.history)"
   ]
  },
  {
   "cell_type": "code",
   "execution_count": 75,
   "metadata": {},
   "outputs": [
    {
     "data": {
      "text/html": [
       "<div>\n",
       "<style scoped>\n",
       "    .dataframe tbody tr th:only-of-type {\n",
       "        vertical-align: middle;\n",
       "    }\n",
       "\n",
       "    .dataframe tbody tr th {\n",
       "        vertical-align: top;\n",
       "    }\n",
       "\n",
       "    .dataframe thead th {\n",
       "        text-align: right;\n",
       "    }\n",
       "</style>\n",
       "<table border=\"1\" class=\"dataframe\">\n",
       "  <thead>\n",
       "    <tr style=\"text-align: right;\">\n",
       "      <th></th>\n",
       "      <th>val_loss</th>\n",
       "      <th>val_acc</th>\n",
       "      <th>loss</th>\n",
       "      <th>acc</th>\n",
       "    </tr>\n",
       "  </thead>\n",
       "  <tbody>\n",
       "    <tr>\n",
       "      <th>0</th>\n",
       "      <td>1.720810</td>\n",
       "      <td>0.612</td>\n",
       "      <td>2.532207</td>\n",
       "      <td>0.495490</td>\n",
       "    </tr>\n",
       "    <tr>\n",
       "      <th>1</th>\n",
       "      <td>1.345868</td>\n",
       "      <td>0.706</td>\n",
       "      <td>1.445201</td>\n",
       "      <td>0.687923</td>\n",
       "    </tr>\n",
       "    <tr>\n",
       "      <th>2</th>\n",
       "      <td>1.170758</td>\n",
       "      <td>0.743</td>\n",
       "      <td>1.095272</td>\n",
       "      <td>0.765096</td>\n",
       "    </tr>\n",
       "    <tr>\n",
       "      <th>3</th>\n",
       "      <td>1.079259</td>\n",
       "      <td>0.759</td>\n",
       "      <td>0.869666</td>\n",
       "      <td>0.816462</td>\n",
       "    </tr>\n",
       "    <tr>\n",
       "      <th>4</th>\n",
       "      <td>0.984387</td>\n",
       "      <td>0.781</td>\n",
       "      <td>0.703356</td>\n",
       "      <td>0.847156</td>\n",
       "    </tr>\n",
       "  </tbody>\n",
       "</table>\n",
       "</div>"
      ],
      "text/plain": [
       "   val_loss  val_acc      loss       acc\n",
       "0  1.720810    0.612  2.532207  0.495490\n",
       "1  1.345868    0.706  1.445201  0.687923\n",
       "2  1.170758    0.743  1.095272  0.765096\n",
       "3  1.079259    0.759  0.869666  0.816462\n",
       "4  0.984387    0.781  0.703356  0.847156"
      ]
     },
     "execution_count": 75,
     "metadata": {},
     "output_type": "execute_result"
    }
   ],
   "source": [
    "his_df.head()"
   ]
  },
  {
   "cell_type": "markdown",
   "metadata": {},
   "source": [
    "### 9번 에포크 이후 과대적합 이 발생"
   ]
  },
  {
   "cell_type": "code",
   "execution_count": 78,
   "metadata": {},
   "outputs": [
    {
     "data": {
      "text/plain": [
       "Text(0, 0.5, 'loss')"
      ]
     },
     "execution_count": 78,
     "metadata": {},
     "output_type": "execute_result"
    },
    {
     "data": {
      "image/png": "[encoded data removed]",
      "text/plain": [
       "<Figure size 432x288 with 1 Axes>"
      ]
     },
     "metadata": {
      "needs_background": "light"
     },
     "output_type": "display_data"
    }
   ],
   "source": [
    "his_df.plot()\n",
    "plt.xlabel('Epochs')\n",
    "plt.ylabel('loss')"
   ]
  },
  {
   "cell_type": "markdown",
   "metadata": {},
   "source": [
    "## 다시 9번만 에포크 처리"
   ]
  },
  {
   "cell_type": "code",
   "execution_count": 79,
   "metadata": {},
   "outputs": [
    {
     "name": "stdout",
     "output_type": "stream",
     "text": [
      "Train on 7982 samples, validate on 1000 samples\n",
      "Epoch 1/9\n",
      "7982/7982 [==============================] - 1s 84us/step - loss: 0.1055 - acc: 0.9575 - val_loss: 1.1033 - val_acc: 0.7990\n",
      "Epoch 2/9\n",
      "7982/7982 [==============================] - 1s 82us/step - loss: 0.1019 - acc: 0.9579 - val_loss: 1.1133 - val_acc: 0.8020\n",
      "Epoch 3/9\n",
      "7982/7982 [==============================] - 1s 83us/step - loss: 0.1028 - acc: 0.9592 - val_loss: 1.0965 - val_acc: 0.7960\n",
      "Epoch 4/9\n",
      "7982/7982 [==============================] - 1s 79us/step - loss: 0.1030 - acc: 0.9575 - val_loss: 1.1221 - val_acc: 0.7970\n",
      "Epoch 5/9\n",
      "7982/7982 [==============================] - 1s 82us/step - loss: 0.0970 - acc: 0.9590 - val_loss: 1.1496 - val_acc: 0.8020\n",
      "Epoch 6/9\n",
      "7982/7982 [==============================] - 1s 82us/step - loss: 0.0988 - acc: 0.9565 - val_loss: 1.2267 - val_acc: 0.7870\n",
      "Epoch 7/9\n",
      "7982/7982 [==============================] - 1s 89us/step - loss: 0.0960 - acc: 0.9575 - val_loss: 1.1766 - val_acc: 0.7990\n",
      "Epoch 8/9\n",
      "7982/7982 [==============================] - 1s 82us/step - loss: 0.0921 - acc: 0.9588 - val_loss: 1.2397 - val_acc: 0.7840\n",
      "Epoch 9/9\n",
      "7982/7982 [==============================] - 1s 91us/step - loss: 0.0948 - acc: 0.9578 - val_loss: 1.1785 - val_acc: 0.7960\n"
     ]
    }
   ],
   "source": [
    "history1 = model.fit(partial_x_train, partial_y_train, epochs=9, batch_size=512, validation_data=(x_val, y_val))"
   ]
  },
  {
   "cell_type": "code",
   "execution_count": 80,
   "metadata": {},
   "outputs": [],
   "source": [
    "his_df9 = pd.DataFrame(history1.history)"
   ]
  },
  {
   "cell_type": "code",
   "execution_count": 81,
   "metadata": {},
   "outputs": [
    {
     "data": {
      "text/plain": [
       "Text(0, 0.5, 'loss')"
      ]
     },
     "execution_count": 81,
     "metadata": {},
     "output_type": "execute_result"
    },
    {
     "data": {
      "image/png": "[encoded data removed]",
      "text/plain": [
       "<Figure size 432x288 with 1 Axes>"
      ]
     },
     "metadata": {
      "needs_background": "light"
     },
     "output_type": "display_data"
    }
   ],
   "source": [
    "his_df9.plot()\n",
    "plt.xlabel('Epochs')\n",
    "plt.ylabel('loss')"
   ]
  },
  {
   "cell_type": "code",
   "execution_count": 82,
   "metadata": {},
   "outputs": [
    {
     "name": "stdout",
     "output_type": "stream",
     "text": [
      "2246/2246 [==============================] - 0s 74us/step\n"
     ]
    }
   ],
   "source": [
    "results = model.evaluate(x_test, one_hot_test_labels)"
   ]
  },
  {
   "cell_type": "code",
   "execution_count": 83,
   "metadata": {},
   "outputs": [
    {
     "data": {
      "text/plain": [
       "[1.3464759404597704, 0.7796081923950174]"
      ]
     },
     "execution_count": 83,
     "metadata": {},
     "output_type": "execute_result"
    }
   ],
   "source": [
    "results"
   ]
  },
  {
   "cell_type": "markdown",
   "metadata": {},
   "source": [
    "# 5. 예측하기"
   ]
  },
  {
   "cell_type": "code",
   "execution_count": 84,
   "metadata": {},
   "outputs": [],
   "source": [
    "predictions = model.predict(x_test)"
   ]
  },
  {
   "cell_type": "code",
   "execution_count": 88,
   "metadata": {},
   "outputs": [
    {
     "data": {
      "text/plain": [
       "(2246, 46)"
      ]
     },
     "execution_count": 88,
     "metadata": {},
     "output_type": "execute_result"
    }
   ],
   "source": [
    "predictions.shape"
   ]
  },
  {
   "cell_type": "code",
   "execution_count": 85,
   "metadata": {},
   "outputs": [
    {
     "data": {
      "text/plain": [
       "3"
      ]
     },
     "execution_count": 85,
     "metadata": {},
     "output_type": "execute_result"
    }
   ],
   "source": [
    "np.argmax(predictions[0])"
   ]
  },
  {
   "cell_type": "code",
   "execution_count": 87,
   "metadata": {},
   "outputs": [
    {
     "data": {
      "text/plain": [
       "3"
      ]
     },
     "execution_count": 87,
     "metadata": {},
     "output_type": "execute_result"
    }
   ],
   "source": [
    "np.argmax(one_hot_test_labels[0])"
   ]
  },
  {
   "cell_type": "code",
   "execution_count": 89,
   "metadata": {},
   "outputs": [
    {
     "data": {
      "text/plain": [
       "[type,\n",
       " weakref,\n",
       " weakcallableproxy,\n",
       " weakproxy,\n",
       " int,\n",
       " bytearray,\n",
       " bytes,\n",
       " list,\n",
       " NoneType,\n",
       " NotImplementedType,\n",
       " traceback,\n",
       " super,\n",
       " range,\n",
       " dict,\n",
       " dict_keys,\n",
       " dict_values,\n",
       " dict_items,\n",
       " odict_iterator,\n",
       " set,\n",
       " str,\n",
       " slice,\n",
       " staticmethod,\n",
       " complex,\n",
       " float,\n",
       " frozenset,\n",
       " property,\n",
       " managedbuffer,\n",
       " memoryview,\n",
       " tuple,\n",
       " enumerate,\n",
       " reversed,\n",
       " stderrprinter,\n",
       " code,\n",
       " frame,\n",
       " builtin_function_or_method,\n",
       " method,\n",
       " function,\n",
       " mappingproxy,\n",
       " generator,\n",
       " getset_descriptor,\n",
       " wrapper_descriptor,\n",
       " method-wrapper,\n",
       " ellipsis,\n",
       " member_descriptor,\n",
       " types.SimpleNamespace,\n",
       " PyCapsule,\n",
       " longrange_iterator,\n",
       " cell,\n",
       " instancemethod,\n",
       " classmethod_descriptor,\n",
       " method_descriptor,\n",
       " callable_iterator,\n",
       " iterator,\n",
       " coroutine,\n",
       " coroutine_wrapper,\n",
       " moduledef,\n",
       " module,\n",
       " EncodingMap,\n",
       " fieldnameiterator,\n",
       " formatteriterator,\n",
       " filter,\n",
       " map,\n",
       " zip,\n",
       " BaseException,\n",
       " hamt,\n",
       " hamt_array_node,\n",
       " hamt_bitmap_node,\n",
       " hamt_collision_node,\n",
       " keys,\n",
       " values,\n",
       " items,\n",
       " Context,\n",
       " ContextVar,\n",
       " Token,\n",
       " Token.MISSING,\n",
       " _frozen_importlib._ModuleLock,\n",
       " _frozen_importlib._DummyModuleLock,\n",
       " _frozen_importlib._ModuleLockManager,\n",
       " _frozen_importlib._installed_safely,\n",
       " _frozen_importlib.ModuleSpec,\n",
       " _frozen_importlib.BuiltinImporter,\n",
       " classmethod,\n",
       " _frozen_importlib.FrozenImporter,\n",
       " _frozen_importlib._ImportLockContext,\n",
       " _thread._localdummy,\n",
       " _thread._local,\n",
       " _thread.lock,\n",
       " _thread.RLock,\n",
       " zipimport.zipimporter,\n",
       " _frozen_importlib_external.WindowsRegistryFinder,\n",
       " _frozen_importlib_external._LoaderBasics,\n",
       " _frozen_importlib_external.FileLoader,\n",
       " _frozen_importlib_external._NamespacePath,\n",
       " _frozen_importlib_external._NamespaceLoader,\n",
       " _frozen_importlib_external.PathFinder,\n",
       " _frozen_importlib_external.FileFinder,\n",
       " _io._IOBase,\n",
       " _io._BytesIOBuffer,\n",
       " _io.IncrementalNewlineDecoder,\n",
       " posix.ScandirIterator,\n",
       " posix.DirEntry,\n",
       " codecs.Codec,\n",
       " codecs.IncrementalEncoder,\n",
       " codecs.IncrementalDecoder,\n",
       " codecs.StreamReaderWriter,\n",
       " codecs.StreamRecoder,\n",
       " _abc_data,\n",
       " abc.ABC,\n",
       " dict_itemiterator,\n",
       " collections.abc.Hashable,\n",
       " collections.abc.Awaitable,\n",
       " collections.abc.AsyncIterable,\n",
       " async_generator,\n",
       " collections.abc.Iterable,\n",
       " bytes_iterator,\n",
       " bytearray_iterator,\n",
       " dict_keyiterator,\n",
       " dict_valueiterator,\n",
       " list_iterator,\n",
       " list_reverseiterator,\n",
       " range_iterator,\n",
       " set_iterator,\n",
       " str_iterator,\n",
       " tuple_iterator,\n",
       " collections.abc.Sized,\n",
       " collections.abc.Container,\n",
       " collections.abc.Callable,\n",
       " os._wrap_close,\n",
       " _sitebuiltins.Quitter,\n",
       " _sitebuiltins._Printer,\n",
       " _sitebuiltins._Helper,\n",
       " types.DynamicClassAttribute,\n",
       " types._GeneratorWrapper,\n",
       " warnings.WarningMessage,\n",
       " warnings.catch_warnings,\n",
       " importlib.abc.Finder,\n",
       " importlib.abc.Loader,\n",
       " importlib.abc.ResourceReader,\n",
       " operator.itemgetter,\n",
       " operator.attrgetter,\n",
       " operator.methodcaller,\n",
       " itertools.accumulate,\n",
       " itertools.combinations,\n",
       " itertools.combinations_with_replacement,\n",
       " itertools.cycle,\n",
       " itertools.dropwhile,\n",
       " itertools.takewhile,\n",
       " itertools.islice,\n",
       " itertools.starmap,\n",
       " itertools.chain,\n",
       " itertools.compress,\n",
       " itertools.filterfalse,\n",
       " itertools.count,\n",
       " itertools.zip_longest,\n",
       " itertools.permutations,\n",
       " itertools.product,\n",
       " itertools.repeat,\n",
       " itertools.groupby,\n",
       " itertools._grouper,\n",
       " itertools._tee,\n",
       " itertools._tee_dataobject,\n",
       " reprlib.Repr,\n",
       " collections.deque,\n",
       " _collections._deque_iterator,\n",
       " _collections._deque_reverse_iterator,\n",
       " collections._Link,\n",
       " functools.partial,\n",
       " functools._lru_cache_wrapper,\n",
       " functools.partialmethod,\n",
       " contextlib.ContextDecorator,\n",
       " contextlib._GeneratorContextManagerBase,\n",
       " contextlib._BaseExitStack,\n",
       " _weakrefset._IterationGuard,\n",
       " _weakrefset.WeakSet,\n",
       " weakref.finalize._Info,\n",
       " weakref.finalize,\n",
       " pkgutil.ImpImporter,\n",
       " pkgutil.ImpLoader,\n",
       " runpy._TempModule,\n",
       " runpy._ModifiedArgv0,\n",
       " __future__._Feature,\n",
       " enum.auto,\n",
       " <enum 'Enum'>,\n",
       " re.Pattern,\n",
       " re.Match,\n",
       " _sre.SRE_Scanner,\n",
       " sre_parse.Pattern,\n",
       " sre_parse.SubPattern,\n",
       " sre_parse.Tokenizer,\n",
       " re.Scanner,\n",
       " _json.Scanner,\n",
       " _json.Encoder,\n",
       " json.decoder.JSONDecoder,\n",
       " json.encoder.JSONEncoder,\n",
       " select.poll,\n",
       " select.kevent,\n",
       " select.kqueue,\n",
       " selectors.BaseSelector,\n",
       " tokenize.Untokenizer,\n",
       " traceback.FrameSummary,\n",
       " traceback.TracebackException,\n",
       " threading._RLock,\n",
       " threading.Condition,\n",
       " threading.Semaphore,\n",
       " threading.Event,\n",
       " threading.Barrier,\n",
       " threading.Thread,\n",
       " subprocess.CompletedProcess,\n",
       " subprocess.Popen,\n",
       " string.Template,\n",
       " string.Formatter,\n",
       " logging.LogRecord,\n",
       " logging.PercentStyle,\n",
       " logging.Formatter,\n",
       " logging.BufferingFormatter,\n",
       " logging.Filter,\n",
       " logging.Filterer,\n",
       " logging.PlaceHolder,\n",
       " logging.Manager,\n",
       " logging.LoggerAdapter,\n",
       " zlib.Compress,\n",
       " zlib.Decompress,\n",
       " _bz2.BZ2Compressor,\n",
       " _bz2.BZ2Decompressor,\n",
       " _lzma.LZMACompressor,\n",
       " _lzma.LZMADecompressor,\n",
       " dis.Bytecode,\n",
       " inspect.BlockFinder,\n",
       " inspect._void,\n",
       " inspect._empty,\n",
       " inspect.Parameter,\n",
       " inspect.BoundArguments,\n",
       " inspect.Signature,\n",
       " six._LazyDescr,\n",
       " six._SixMetaPathImporter,\n",
       " Struct,\n",
       " unpack_iterator,\n",
       " traitlets.utils.sentinel.Sentinel,\n",
       " traitlets.traitlets._SimpleTest,\n",
       " traitlets.traitlets.link,\n",
       " traitlets.traitlets.directional_link,\n",
       " traitlets.traitlets.BaseDescriptor,\n",
       " traitlets.traitlets._CallbackWrapper,\n",
       " traitlets.traitlets.HasDescriptors,\n",
       " traitlets.traitlets.ForwardDeclaredMixin,\n",
       " decorator.FunctionMaker,\n",
       " _ast.AST,\n",
       " gettext.NullTranslations,\n",
       " argparse._AttributeHolder,\n",
       " argparse.HelpFormatter._Section,\n",
       " argparse.HelpFormatter,\n",
       " argparse.FileType,\n",
       " argparse._ActionsContainer,\n",
       " ast.NodeVisitor,\n",
       " _hashlib.HASH,\n",
       " _blake2.blake2b,\n",
       " _blake2.blake2s,\n",
       " _sha3.sha3_224,\n",
       " _sha3.sha3_256,\n",
       " _sha3.sha3_384,\n",
       " _sha3.sha3_512,\n",
       " _sha3.shake_128,\n",
       " _sha3.shake_256,\n",
       " _random.Random,\n",
       " traitlets.config.loader.ConfigLoader,\n",
       " textwrap.TextWrapper,\n",
       " pprint._safe_key,\n",
       " pprint.PrettyPrinter,\n",
       " urllib.parse._ResultMixinStr,\n",
       " urllib.parse._ResultMixinBytes,\n",
       " urllib.parse._NetlocResultMixinBase,\n",
       " pydoc.Doc,\n",
       " pydoc.Helper,\n",
       " pydoc.ModuleScanner,\n",
       " bdb.Bdb,\n",
       " bdb.Breakpoint,\n",
       " IPython.utils.coloransi.TermColors,\n",
       " IPython.utils.coloransi.InputTermColors,\n",
       " IPython.utils.coloransi.NoColors,\n",
       " IPython.utils.coloransi.ColorScheme,\n",
       " pygments.util.Future,\n",
       " IPython.core.excolors.Deprec,\n",
       " cmd.Cmd,\n",
       " codeop.Compile,\n",
       " codeop.CommandCompiler,\n",
       " code.InteractiveInterpreter,\n",
       " IPython.core.debugger.Tracer,\n",
       " pexpect.expect.Expecter,\n",
       " pexpect.expect.searcher_string,\n",
       " pexpect.expect.searcher_re,\n",
       " ptyprocess.ptyprocess.PtyProcess,\n",
       " pexpect.spawnbase._NullCoder,\n",
       " pexpect.spawnbase.SpawnBase,\n",
       " shlex.shlex,\n",
       " IPython.utils._process_posix.ProcessHandler,\n",
       " IPython.core.crashhandler.CrashHandler,\n",
       " tempfile._RandomNameSequence,\n",
       " tempfile._TemporaryFileCloser,\n",
       " tempfile._TemporaryFileWrapper,\n",
       " tempfile.SpooledTemporaryFile,\n",
       " tempfile.TemporaryDirectory,\n",
       " pathlib._Flavour,\n",
       " pathlib._Accessor,\n",
       " pathlib._Selector,\n",
       " pathlib._TerminatingSelector,\n",
       " pathlib.PurePath,\n",
       " IPython.core.magic_arguments.ArgDecorator,\n",
       " mimetypes.MimeTypes,\n",
       " IPython.core.display.DisplayHandle,\n",
       " IPython.core.display.DisplayObject,\n",
       " datetime.date,\n",
       " datetime.timedelta,\n",
       " datetime.time,\n",
       " datetime.tzinfo,\n",
       " IPython.lib.pretty._PrettyPrinterBase,\n",
       " IPython.lib.pretty.Printable,\n",
       " IPython.lib.pretty.GroupQueue,\n",
       " pygments.filter.Filter,\n",
       " pygments.lexer.Lexer,\n",
       " pygments.lexer._inherit,\n",
       " pygments.lexer._PseudoMatch,\n",
       " pygments.lexer._This,\n",
       " pygments.lexer.default,\n",
       " pygments.lexer.LexerContext,\n",
       " pygments.formatter.Formatter,\n",
       " typing._Final,\n",
       " typing._Immutable,\n",
       " typing.Generic,\n",
       " typing._TypingEmpty,\n",
       " typing._TypingEllipsis,\n",
       " typing.NamedTuple,\n",
       " typing.io,\n",
       " typing.re,\n",
       " IPython.core.inputtransformer2.PromptStripper,\n",
       " IPython.core.inputtransformer2.TokenTransformBase,\n",
       " IPython.core.inputtransformer2.TransformerManager,\n",
       " IPython.core.magic.Bunch,\n",
       " IPython.core.magic.MagicAlias,\n",
       " concurrent.futures._base._Waiter,\n",
       " concurrent.futures._base._AcquireFutures,\n",
       " concurrent.futures._base.Future,\n",
       " concurrent.futures._base.Executor,\n",
       " _socket.socket,\n",
       " _ssl._SSLContext,\n",
       " _ssl._SSLSocket,\n",
       " _ssl.MemoryBIO,\n",
       " _ssl.Session,\n",
       " ssl.SSLObject,\n",
       " asyncio.coroutines.CoroWrapper,\n",
       " asyncio.events.Handle,\n",
       " asyncio.events.AbstractServer,\n",
       " asyncio.events.AbstractEventLoop,\n",
       " asyncio.events.AbstractEventLoopPolicy,\n",
       " _asyncio.Future,\n",
       " _asyncio.FutureIter,\n",
       " TaskStepMethWrapper,\n",
       " TaskWakeupMethWrapper,\n",
       " _RunningLoopHolder,\n",
       " asyncio.futures.Future,\n",
       " asyncio.protocols.BaseProtocol,\n",
       " asyncio.transports.BaseTransport,\n",
       " asyncio.sslproto._SSLPipe,\n",
       " asyncio.locks._ContextManager,\n",
       " asyncio.locks._ContextManagerMixin,\n",
       " asyncio.locks.Event,\n",
       " asyncio.queues.Queue,\n",
       " asyncio.streams.StreamWriter,\n",
       " asyncio.streams.StreamReader,\n",
       " asyncio.subprocess.Process,\n",
       " asyncio.unix_events.AbstractChildWatcher,\n",
       " pickle._Framer,\n",
       " pickle._Unframer,\n",
       " pickle._Pickler,\n",
       " pickle._Unpickler,\n",
       " _pickle.Unpickler,\n",
       " _pickle.Pickler,\n",
       " _pickle.Pdata,\n",
       " _pickle.PicklerMemoProxy,\n",
       " _pickle.UnpicklerMemoProxy,\n",
       " pickleshare.PickleShareLink,\n",
       " IPython.core.autocall.IPyAutocall,\n",
       " IPython.core.macro.Macro,\n",
       " IPython.core.splitinput.LineInfo,\n",
       " IPython.core.alias.Alias,\n",
       " IPython.core.builtin_trap.__BuiltinUndefined,\n",
       " IPython.core.builtin_trap.__HideBuiltin,\n",
       " IPython.core.events.EventManager,\n",
       " IPython.core.displayhook.CapturingDisplayHook,\n",
       " IPython.utils.sentinel.Sentinel,\n",
       " IPython.core.formatters.FormatterABC,\n",
       " sqlite3.Row,\n",
       " sqlite3.Cursor,\n",
       " sqlite3.Connection,\n",
       " sqlite3Node,\n",
       " sqlite3.Cache,\n",
       " sqlite3.Statement,\n",
       " sqlite3.PrepareProtocol,\n",
       " IPython.core.history.DummyDB,\n",
       " IPython.core.logger.Logger,\n",
       " IPython.lib.display.IFrame,\n",
       " IPython.lib.display.FileLink,\n",
       " IPython.utils.capture.RichOutput,\n",
       " IPython.utils.capture.CapturedIO,\n",
       " IPython.utils.capture.capture_output,\n",
       " IPython.utils.io.IOStream,\n",
       " IPython.utils.io.Tee,\n",
       " IPython.core.hooks.CommandChainDispatcher,\n",
       " IPython.utils.strdispatch.StrDispatch,\n",
       " IPython.utils.syspathcontext.appended_to_syspath,\n",
       " IPython.utils.syspathcontext.prepended_to_syspath,\n",
       " IPython.utils.tempdir.NamedFileInTemporaryDirectory,\n",
       " IPython.utils.contexts.preserve_keys,\n",
       " IPython.utils.contexts.NoOpContext,\n",
       " IPython.core.async_helpers._AsyncIORunner,\n",
       " IPython.core.interactiveshell.DummyMod,\n",
       " IPython.core.interactiveshell.ExecutionInfo,\n",
       " IPython.core.interactiveshell.ExecutionResult,\n",
       " IPython.core.interactiveshell.InteractiveShellABC,\n",
       " prompt_toolkit.eventloop.base.EventLoop,\n",
       " prompt_toolkit.cache.SimpleCache,\n",
       " prompt_toolkit.utils.Event,\n",
       " prompt_toolkit.utils.DummyContext,\n",
       " prompt_toolkit.eventloop.context.context,\n",
       " prompt_toolkit.eventloop.context.TaskLocal,\n",
       " prompt_toolkit.eventloop.future.Future,\n",
       " prompt_toolkit.eventloop.coroutine._FutureRef,\n",
       " _queue.SimpleQueue,\n",
       " queue.Queue,\n",
       " queue._PySimpleQueue,\n",
       " prompt_toolkit.eventloop.async_generator.AsyncGeneratorItem,\n",
       " prompt_toolkit.eventloop.event.Event,\n",
       " prompt_toolkit.filters.base.Filter,\n",
       " prompt_toolkit.enums.EditingMode,\n",
       " prompt_toolkit.auto_suggest.Suggestion,\n",
       " prompt_toolkit.auto_suggest.AutoSuggest,\n",
       " prompt_toolkit.selection.SelectionType,\n",
       " prompt_toolkit.selection.PasteMode,\n",
       " prompt_toolkit.selection.SelectionState,\n",
       " prompt_toolkit.clipboard.base.ClipboardData,\n",
       " prompt_toolkit.clipboard.base.Clipboard,\n",
       " prompt_toolkit.completion.base.Completion,\n",
       " prompt_toolkit.completion.base.CompleteEvent,\n",
       " prompt_toolkit.completion.base.Completer,\n",
       " prompt_toolkit.document._DocumentCache,\n",
       " prompt_toolkit.document.Document,\n",
       " prompt_toolkit.history.History,\n",
       " prompt_toolkit.keys.Keys,\n",
       " prompt_toolkit.key_binding.key_bindings._Binding,\n",
       " prompt_toolkit.key_binding.key_bindings.KeyBindingsBase,\n",
       " prompt_toolkit.key_binding.vi_state.InputMode,\n",
       " prompt_toolkit.key_binding.vi_state.CharacterFind,\n",
       " prompt_toolkit.key_binding.vi_state.ViState,\n",
       " prompt_toolkit.search.SearchDirection,\n",
       " prompt_toolkit.search.SearchState,\n",
       " prompt_toolkit.validation.Validator,\n",
       " prompt_toolkit.buffer.ValidationState,\n",
       " prompt_toolkit.buffer.CompletionState,\n",
       " prompt_toolkit.buffer.YankNthArgState,\n",
       " prompt_toolkit.buffer.Buffer,\n",
       " prompt_toolkit.input.base.Input,\n",
       " prompt_toolkit.key_binding.key_processor.KeyPress,\n",
       " prompt_toolkit.key_binding.key_processor.KeyProcessor,\n",
       " prompt_toolkit.key_binding.key_processor.KeyPressEvent,\n",
       " prompt_toolkit.input.vt100_parser._Flush,\n",
       " prompt_toolkit.input.vt100_parser.Vt100Parser,\n",
       " prompt_toolkit.key_binding.bindings.vi.TextObjectType,\n",
       " prompt_toolkit.key_binding.bindings.vi.TextObject,\n",
       " prompt_toolkit.formatted_text.base.Template,\n",
       " xml.dom.Node,\n",
       " xml.dom.UserDataHandler,\n",
       " xml.dom.NodeFilter.NodeFilter,\n",
       " xml.dom.xmlbuilder.Options,\n",
       " xml.dom.xmlbuilder.DOMBuilder,\n",
       " xml.dom.xmlbuilder.DOMEntityResolver,\n",
       " xml.dom.xmlbuilder.DOMInputSource,\n",
       " xml.dom.xmlbuilder.DOMBuilderFilter,\n",
       " xml.dom.xmlbuilder.DocumentLS,\n",
       " xml.dom.xmlbuilder.DOMImplementationLS,\n",
       " xml.dom.minidom.NamedNodeMap,\n",
       " xml.dom.minidom.TypeInfo,\n",
       " xml.dom.minidom.Childless,\n",
       " xml.dom.minidom.ReadOnlySequentialNamedNodeMap,\n",
       " xml.dom.minidom.Identified,\n",
       " xml.dom.minidom.ElementInfo,\n",
       " prompt_toolkit.formatted_text.html.HTML,\n",
       " prompt_toolkit.layout.screen.Char,\n",
       " prompt_toolkit.layout.screen.Screen,\n",
       " prompt_toolkit.layout.screen.WritePosition,\n",
       " prompt_toolkit.output.base.Output,\n",
       " prompt_toolkit.output.color_depth.ColorDepth,\n",
       " prompt_toolkit.styles.base.BaseStyle,\n",
       " prompt_toolkit.styles.style.Priority,\n",
       " prompt_toolkit.styles.style_transformation.StyleTransformation,\n",
       " array.array,\n",
       " prompt_toolkit.formatted_text.ansi.ANSI,\n",
       " prompt_toolkit.formatted_text.pygments.PygmentsTokens,\n",
       " prompt_toolkit.lexers.base.Lexer,\n",
       " prompt_toolkit.lexers.pygments.SyntaxSync,\n",
       " prompt_toolkit.mouse_events.MouseEventType,\n",
       " prompt_toolkit.mouse_events.MouseEvent,\n",
       " prompt_toolkit.layout.processors.Processor,\n",
       " prompt_toolkit.layout.processors.TransformationInput,\n",
       " prompt_toolkit.layout.processors.Transformation,\n",
       " prompt_toolkit.layout.controls.UIControl,\n",
       " prompt_toolkit.layout.controls.UIContent,\n",
       " prompt_toolkit.layout.dimension.Dimension,\n",
       " prompt_toolkit.layout.margins.Margin,\n",
       " prompt_toolkit.layout.containers.Container,\n",
       " prompt_toolkit.layout.containers.VerticalAlign,\n",
       " prompt_toolkit.layout.containers.HorizontalAlign,\n",
       " prompt_toolkit.layout.containers.Float,\n",
       " prompt_toolkit.layout.containers.WindowRenderInfo,\n",
       " prompt_toolkit.layout.containers.ScrollOffsets,\n",
       " prompt_toolkit.layout.containers.ColorColumn,\n",
       " prompt_toolkit.layout.containers.WindowAlign,\n",
       " prompt_toolkit.layout.layout.Layout,\n",
       " prompt_toolkit.layout.mouse_handlers.MouseHandlers,\n",
       " prompt_toolkit.renderer.CPR_Support,\n",
       " prompt_toolkit.renderer.Renderer,\n",
       " prompt_toolkit.key_binding.emacs_state.EmacsState,\n",
       " prompt_toolkit.application.application.Application,\n",
       " prompt_toolkit.widgets.toolbars.SystemToolbar,\n",
       " prompt_toolkit.widgets.toolbars.ArgToolbar,\n",
       " prompt_toolkit.widgets.toolbars.SearchToolbar,\n",
       " prompt_toolkit.widgets.toolbars.CompletionsToolbar,\n",
       " prompt_toolkit.widgets.toolbars.ValidationToolbar,\n",
       " prompt_toolkit.widgets.base.Border,\n",
       " prompt_toolkit.widgets.base.TextArea,\n",
       " prompt_toolkit.widgets.base.Label,\n",
       " prompt_toolkit.widgets.base.Button,\n",
       " prompt_toolkit.widgets.base.Frame,\n",
       " prompt_toolkit.widgets.base.Shadow,\n",
       " prompt_toolkit.widgets.base.Box,\n",
       " prompt_toolkit.widgets.base.Checkbox,\n",
       " prompt_toolkit.widgets.base.RadioList,\n",
       " prompt_toolkit.widgets.base.VerticalLine,\n",
       " prompt_toolkit.widgets.base.HorizontalLine,\n",
       " prompt_toolkit.widgets.base.ProgressBar,\n",
       " prompt_toolkit.widgets.dialogs.Dialog,\n",
       " prompt_toolkit.widgets.menus.MenuContainer,\n",
       " prompt_toolkit.widgets.menus.MenuItem,\n",
       " prompt_toolkit.shortcuts.prompt.CompleteStyle,\n",
       " prompt_toolkit.shortcuts.prompt.PromptSession,\n",
       " prompt_toolkit.shortcuts.progress_bar.formatters.Formatter,\n",
       " prompt_toolkit.shortcuts.progress_bar.base.ProgressBar,\n",
       " prompt_toolkit.shortcuts.progress_bar.base.ProgressBarCounter,\n",
       " prompt_toolkit.patch_stdout.StdoutProxy,\n",
       " pygments.style.Style,\n",
       " parso.tree.NodeOrLeaf,\n",
       " parso.python.token.TokenType,\n",
       " parso.python.token.TokenTypes,\n",
       " parso.python.tokenize.FStringNode,\n",
       " parso.pgen2.grammar_parser.GrammarParser,\n",
       " parso.pgen2.grammar_parser.NFAArc,\n",
       " parso.pgen2.grammar_parser.NFAState,\n",
       " parso.pgen2.generator.Grammar,\n",
       " parso.pgen2.generator.DFAPlan,\n",
       " parso.pgen2.generator.DFAState,\n",
       " parso.pgen2.generator.ReservedString,\n",
       " parso.parser.StackNode,\n",
       " parso.parser.BaseParser,\n",
       " difflib.SequenceMatcher,\n",
       " difflib.Differ,\n",
       " difflib.HtmlDiff,\n",
       " parso.python.prefix.PrefixPart,\n",
       " parso.python.tree.DocstringMixin,\n",
       " parso.python.tree.PythonMixin,\n",
       " parso.python.tree._StringComparisonMixin,\n",
       " parso.python.diff.DiffParser,\n",
       " parso.python.diff._NodesTreeNode,\n",
       " parso.python.diff._NodesTree,\n",
       " parso.cache._NodeCacheItem,\n",
       " parso.normalizer.HackClass,\n",
       " parso.normalizer.NormalizerConfig,\n",
       " parso.normalizer.Issue,\n",
       " parso.normalizer.Rule,\n",
       " parso.python.errors._Context,\n",
       " parso.python.pep8.IndentationTypes,\n",
       " parso.python.pep8.IndentationNode,\n",
       " parso.file_io.FileIO,\n",
       " parso.grammar.Grammar,\n",
       " jedi._compatibility.DummyFile,\n",
       " jedi._compatibility.ImplicitNSInfo,\n",
       " jedi._compatibility.Python3Method,\n",
       " colorama.ansi.AnsiCodes,\n",
       " colorama.ansi.AnsiCursor,\n",
       " CArgObject,\n",
       " _ctypes.CThunkObject,\n",
       " _ctypes._CData,\n",
       " _ctypes.CField,\n",
       " _ctypes.DictRemover,\n",
       " ctypes.CDLL,\n",
       " ctypes.LibraryLoader,\n",
       " colorama.winterm.WinColor,\n",
       " colorama.winterm.WinStyle,\n",
       " colorama.winterm.WinTerm,\n",
       " colorama.ansitowin32.StreamWrapper,\n",
       " colorama.ansitowin32.AnsiToWin32,\n",
       " jedi.evaluate.utils.PushBackIterator,\n",
       " jedi.common.context.BaseContext,\n",
       " jedi.common.context.BaseContextSet,\n",
       " jedi.evaluate.base_context.ContextualizedNode,\n",
       " jedi.evaluate.recursion.RecursionDetector,\n",
       " jedi.evaluate.recursion.ExecutionRecursionDetector,\n",
       " jedi.evaluate.flow_analysis.Status,\n",
       " jedi.evaluate.filters.AbstractNameDefinition,\n",
       " jedi.evaluate.filters.ContextNameMixin,\n",
       " jedi.evaluate.filters.AbstractFilter,\n",
       " jedi.evaluate.filters.MergedFilter,\n",
       " jedi._compatibility.Py2CompatibilityMetaClass,\n",
       " jedi.evaluate.lazy_context.AbstractLazyContext,\n",
       " jedi.evaluate.compiled.access.AccessPath,\n",
       " jedi.evaluate.compiled.access.DirectObjectAccess,\n",
       " jedi.evaluate.compiled.access._SPECIAL_OBJECTS,\n",
       " jedi.evaluate.compiled.context.CheckAttribute,\n",
       " jedi.evaluate.analysis.Error,\n",
       " jedi.evaluate.imports.ModuleCache,\n",
       " jedi.evaluate.imports.Importer,\n",
       " jedi.evaluate.context.iterable.IterableMixin,\n",
       " jedi.evaluate.context.iterable.ComprehensionMixin,\n",
       " jedi.evaluate.context.iterable._ArrayInstance,\n",
       " jedi.evaluate.param.ExecutedParam,\n",
       " jedi.evaluate.arguments.AbstractArguments,\n",
       " jedi.evaluate.context.instance.InstanceExecutedParam,\n",
       " jedi.evaluate.context.instance.LazyInstanceClassName,\n",
       " jedi.evaluate.finder.NameFinder,\n",
       " jedi.evaluate.Evaluator,\n",
       " jedi.api.keywords.Keyword,\n",
       " jedi.api.classes.BaseDefinition,\n",
       " jedi.api.classes._Help,\n",
       " jedi.evaluate.compiled.mixed.MixedObject,\n",
       " jedi.api.interpreter.NamespaceObject,\n",
       " jedi.api.completion.Completion,\n",
       " filecmp.dircmp,\n",
       " jedi.evaluate.compiled.subprocess._EvaluatorProcess,\n",
       " jedi.evaluate.compiled.subprocess.CompiledSubprocess,\n",
       " jedi.evaluate.compiled.subprocess.Listener,\n",
       " jedi.evaluate.compiled.subprocess.AccessHandle,\n",
       " jedi.api.environment._BaseEnvironment,\n",
       " jedi.api.project.Project,\n",
       " jedi.api.Script,\n",
       " IPython.core.completer._FakeJediCompletion,\n",
       " IPython.core.completer.Completion,\n",
       " IPython.core.completer.CompletionSplitter,\n",
       " IPython.terminal.prompts.Prompts,\n",
       " IPython.core.magics.basic.MagicsDisplay,\n",
       " email.charset.Charset,\n",
       " email.header.Header,\n",
       " email.header._ValueFormatter,\n",
       " calendar._localized_month,\n",
       " calendar._localized_day,\n",
       " calendar.Calendar,\n",
       " calendar.different_locale,\n",
       " email._parseaddr.AddrlistClass,\n",
       " email._policybase._PolicyBase,\n",
       " email.feedparser.BufferedSubFile,\n",
       " email.feedparser.FeedParser,\n",
       " email.parser.Parser,\n",
       " email.parser.BytesParser,\n",
       " email.message.Message,\n",
       " http.client.HTTPConnection,\n",
       " urllib.request.Request,\n",
       " urllib.request.OpenerDirector,\n",
       " urllib.request.BaseHandler,\n",
       " urllib.request.HTTPPasswordMgr,\n",
       " urllib.request.AbstractBasicAuthHandler,\n",
       " urllib.request.AbstractDigestAuthHandler,\n",
       " urllib.request.URLopener,\n",
       " urllib.request.ftpwrapper,\n",
       " timeit.Timer,\n",
       " _lsprof.Profiler,\n",
       " profile._Utils,\n",
       " profile.Profile.fake_code,\n",
       " profile.Profile.fake_frame,\n",
       " profile.Profile,\n",
       " pstats.Stats,\n",
       " pstats.TupleComp,\n",
       " IPython.core.magics.execution.TimeitResult,\n",
       " IPython.lib.backgroundjobs.BackgroundJobManager,\n",
       " cython_function_or_method,\n",
       " zmq.backend.cython.message.MessageTracker,\n",
       " zmq.backend.cython.message.Frame,\n",
       " zmq.backend.cython.context.Context,\n",
       " zmq.backend.cython.socket.Socket,\n",
       " zmq.sugar.attrsettr.AttributeSetter,\n",
       " zmq.sugar.poll.Poller,\n",
       " zmq.sugar.tracker.MessageTracker,\n",
       " zmq.sugar.stopwatch.Stopwatch,\n",
       " abc._NewBase,\n",
       " abc._NewBase,\n",
       " abc._NewBase,\n",
       " jupyter_client.blocking.channels.ZMQSocketChannel,\n",
       " uuid.UUID,\n",
       " numbers.Number,\n",
       " logging.handlers.QueueListener,\n",
       " tornado.util.GzipDecompressor,\n",
       " tornado.util.Configurable,\n",
       " tornado.util.ArgReplacer,\n",
       " _curses.window,\n",
       " tornado.ioloop._Selectable,\n",
       " tornado.ioloop._Timeout,\n",
       " tornado.ioloop.PeriodicCallback,\n",
       " tornado.gen.WaitIterator,\n",
       " tornado.gen._NullFuture,\n",
       " tornado.gen.Runner,\n",
       " zmq.eventloop.zmqstream.ZMQStream,\n",
       " imp.NullImporter,\n",
       " imp._HackedGetData,\n",
       " hmac.HMAC,\n",
       " decimal.Decimal,\n",
       " decimal.Context,\n",
       " decimal.SignalDictMixin,\n",
       " decimal.ContextManager,\n",
       " dateutil._common.weekday,\n",
       " dateutil.relativedelta.relativedelta,\n",
       " dateutil.tz.tz._ttinfo,\n",
       " dateutil.tz.tz._tzfile,\n",
       " dateutil.tz.tz._tzicalvtzcomp,\n",
       " dateutil.tz.tz.tzical,\n",
       " dateutil.tz.tz.__get_gettz.<locals>.GettzFunc,\n",
       " dateutil.tz.tz._nullcontext,\n",
       " dateutil.parser._parser._timelex,\n",
       " dateutil.parser._parser._resultbase,\n",
       " dateutil.parser._parser.parserinfo,\n",
       " dateutil.parser._parser.parser,\n",
       " dateutil.parser._parser._tzparser,\n",
       " dateutil.parser.isoparser.isoparser,\n",
       " _strptime.LocaleTime,\n",
       " jupyter_client.adapter.Adapter,\n",
       " jupyter_client.session.Message,\n",
       " ipykernel.iostream.IOPubThread,\n",
       " ipykernel.iostream.BackgroundSocket,\n",
       " tornado.locks._TimeoutGarbageCollector,\n",
       " tornado.locks.Event,\n",
       " tornado.locks._ReleasingContextManager,\n",
       " tornado.locks.Lock,\n",
       " ipykernel.displayhook.ZMQDisplayHook,\n",
       " ipykernel.pickleutil.CannedObject,\n",
       " ipywidgets.widgets.widget.WidgetRegistry,\n",
       " ipywidgets.widgets.interaction._InteractFactory,\n",
       " numpy._globals._NoValueType,\n",
       " numpy.ufunc,\n",
       " numpy.ndarray,\n",
       " numpy.generic,\n",
       " numpy.flatiter,\n",
       " numpy.mapiter,\n",
       " numpy.broadcast,\n",
       " numpy.neigh_internal_iter,\n",
       " numpy.nditer,\n",
       " numpy.dtype,\n",
       " numpy.flagsobj,\n",
       " numpy.busdaycalendar,\n",
       " numpy.compat.py3k.contextlib_nullcontext,\n",
       " numpy.core._internal.dummy_ctype,\n",
       " numpy.core._internal._missing_ctypes.c_void_p,\n",
       " numpy.core._internal._missing_ctypes,\n",
       " numpy.core._internal._unsafe_first_element_pointer,\n",
       " numpy.core._internal._ctypes,\n",
       " numpy.core._internal._Stream,\n",
       " numpy.core._internal.recursive,\n",
       " numpy.core.numeric._unspecified,\n",
       " numpy.errstate,\n",
       " numpy.core.arrayprint.FloatingFormat,\n",
       " numpy.core.arrayprint.IntegerFormat,\n",
       " numpy.core.arrayprint.BoolFormat,\n",
       " numpy.core.arrayprint.ComplexFloatingFormat,\n",
       " numpy.core.arrayprint._TimelikeFormat,\n",
       " numpy.core.arrayprint.SubArrayFormat,\n",
       " numpy.core.arrayprint.StructuredVoidFormat,\n",
       " numpy.format_parser,\n",
       " numpy.MachAr,\n",
       " numpy.core.getlimits.MachArLike,\n",
       " numpy.finfo,\n",
       " numpy.iinfo,\n",
       " numpy._pytesttester.PytestTester,\n",
       " numpy.lib.utils._Deprecate,\n",
       " numpy.lib.utils.SafeEval,\n",
       " numpy.vectorize,\n",
       " numpy.lib.stride_tricks.DummyArray,\n",
       " numpy.lib.index_tricks.nd_grid,\n",
       " numpy.lib.index_tricks.AxisConcatenator,\n",
       " numpy.ndenumerate,\n",
       " numpy.ndindex,\n",
       " numpy.lib.index_tricks.IndexExpression,\n",
       " numpy.lib.mixins.NDArrayOperatorsMixin,\n",
       " numpy.poly1d,\n",
       " numpy.lib._datasource._FileOpeners,\n",
       " numpy.DataSource,\n",
       " numpy.lib._iotools.LineSplitter,\n",
       " numpy.lib._iotools.NameValidator,\n",
       " numpy.lib._iotools.StringConverter,\n",
       " numpy.lib.npyio.BagObj,\n",
       " numpy.lib.arrayterator.Arrayterator,\n",
       " numpy.lib._version.NumpyVersion,\n",
       " numpy.fft.helper._FFTCache,\n",
       " numpy.polynomial.polyutils.PolyBase,\n",
       " numpy.polynomial._polybase.ABCPolyBase,\n",
       " mtrand.RandomState,\n",
       " numpy.ma.core._DomainCheckInterval,\n",
       " numpy.ma.core._DomainTan,\n",
       " numpy.ma.core._DomainSafeDivide,\n",
       " numpy.ma.core._DomainGreater,\n",
       " numpy.ma.core._DomainGreaterEqual,\n",
       " numpy.ma.core._MaskedUFunc,\n",
       " numpy.ma.core._MaskedPrintOption,\n",
       " numpy.ma.core.MaskedIterator,\n",
       " numpy.ma.core._frommethod,\n",
       " numpy.ma.core._convert2ma,\n",
       " numpy.ma.extras._fromnxfunction,\n",
       " unittest.result.TestResult,\n",
       " unittest.case._Outcome,\n",
       " unittest.case._BaseTestCaseContext,\n",
       " unittest.case.TestCase,\n",
       " unittest.suite.BaseTestSuite,\n",
       " unittest.suite._ErrorHolder,\n",
       " unittest.suite._DebugResult,\n",
       " unittest.loader.TestLoader,\n",
       " unittest.signals._InterruptHandler,\n",
       " unittest.runner._WritelnDecorator,\n",
       " unittest.runner.TextTestRunner,\n",
       " unittest.main.TestProgram,\n",
       " numpy.testing._private.utils.suppress_warnings,\n",
       " numpy.testing._private.nosetester.NoseTester,\n",
       " keras.utils.generic_utils.CustomObjectScope,\n",
       " keras.utils.generic_utils.Progbar,\n",
       " multiprocessing.process.BaseProcess,\n",
       " multiprocessing.reduction._C,\n",
       " multiprocessing.reduction.AbstractReducer,\n",
       " multiprocessing.context.BaseContext,\n",
       " tarfile._LowLevelFile,\n",
       " tarfile._Stream,\n",
       " tarfile._StreamProxy,\n",
       " tarfile._FileInFile,\n",
       " tarfile.TarInfo,\n",
       " tarfile.TarFile,\n",
       " zipfile.ZipInfo,\n",
       " zipfile.LZMACompressor,\n",
       " zipfile.LZMADecompressor,\n",
       " zipfile._SharedFile,\n",
       " zipfile._Tellable,\n",
       " zipfile.ZipFile,\n",
       " multiprocessing.util.Finalize,\n",
       " multiprocessing.util.ForkAwareThreadLock,\n",
       " multiprocessing.pool.ExceptionWithTraceback,\n",
       " multiprocessing.pool.Pool,\n",
       " multiprocessing.pool.ApplyResult,\n",
       " multiprocessing.pool.IMapIterator,\n",
       " keras.utils.data_utils.Sequence,\n",
       " keras.utils.data_utils.SequenceEnqueuer,\n",
       " h5py.h5r.Reference,\n",
       " cython_function_or_method,\n",
       " h5py._objects.ObjectID,\n",
       " h5py._objects.BogoLock,\n",
       " h5py._objects.FastRLock,\n",
       " h5py._objects.__pyx_scope_struct__with_phil,\n",
       " h5py.h5t.__pyx_scope_struct____pyx_f_4h5py_3h5t__c_compound,\n",
       " h5py.h5.H5PYConfig,\n",
       " h5py.h5.__pyx_scope_struct____get__,\n",
       " h5py.h5.ByteStringContext,\n",
       " h5py.h5py_warnings.ModuleWrapper,\n",
       " h5py.h5a.AttrInfo,\n",
       " h5py.h5a._AttrVisitor,\n",
       " h5py.h5ac.CacheConfig,\n",
       " h5py.h5ds._DimensionScaleVisitor,\n",
       " h5py.h5g.GroupStat,\n",
       " h5py.h5g.GroupIter,\n",
       " h5py.h5g._GroupVisitor,\n",
       " h5py.h5fd.array,\n",
       " h5py.h5fd.Enum,\n",
       " h5py.h5fd.memoryview,\n",
       " h5py._hl.base.CommonStateObject,\n",
       " h5py._hl.base._RegionProxy,\n",
       " h5py._hl.base.Empty,\n",
       " h5py.h5o._ObjInfoBase,\n",
       " h5py.h5o._ObjectVisitor,\n",
       " h5py.h5l.LinkProxy,\n",
       " h5py.h5l.LinkInfo,\n",
       " h5py.h5l._LinkVisitor,\n",
       " h5py._hl.selections._RegionProxy,\n",
       " h5py._hl.selections.Selection,\n",
       " h5py._hl.selections2.ScalarReadSelection,\n",
       " h5py._hl.vds.VirtualSource,\n",
       " h5py._hl.vds.VirtualLayout,\n",
       " h5py._hl.dataset.AstypeContext,\n",
       " h5py._hl.group.HardLink,\n",
       " h5py._hl.group.SoftLink,\n",
       " h5py._hl.group.ExternalLink,\n",
       " keras.utils.io_utils.HDF5Matrix,\n",
       " keras.utils.io_utils.H5Dict,\n",
       " tensorflow.python.pywrap_tensorflow_internal.CheckpointReader,\n",
       " tensorflow.python.pywrap_tensorflow_internal.StatSummarizer,\n",
       " tensorflow.python.pywrap_tensorflow_internal.PyExceptionRegistry,\n",
       " tensorflow.python.pywrap_tensorflow_internal.PyRecordReader,\n",
       " tensorflow.python.pywrap_tensorflow_internal.RecordWriterOptions,\n",
       " tensorflow.python.pywrap_tensorflow_internal.ZlibCompressionOptions,\n",
       " tensorflow.python.pywrap_tensorflow_internal.PyRecordWriter,\n",
       " tensorflow.python.pywrap_tensorflow_internal.Status,\n",
       " tensorflow.python.pywrap_tensorflow_internal.EventsWriter,\n",
       " tensorflow.python.pywrap_tensorflow_internal.TF_Buffer,\n",
       " tensorflow.python.pywrap_tensorflow_internal.TF_Input,\n",
       " tensorflow.python.pywrap_tensorflow_internal.TF_Output,\n",
       " tensorflow.python.pywrap_tensorflow_internal.TF_AttrMetadata,\n",
       " tensorflow.python.pywrap_tensorflow_internal.WritableFile,\n",
       " tensorflow.python.pywrap_tensorflow_internal.BufferedInputStream,\n",
       " tensorflow.python.pywrap_tensorflow_internal.FileStatistics,\n",
       " tensorflow.python.util.tf_decorator.TFDecorator,\n",
       " tensorflow.python.util.tf_export.api_export,\n",
       " tensorflow.python.util.decorator_utils.classproperty,\n",
       " tensorflow.python.pywrap_tensorflow_internal.GItem,\n",
       " tensorflow.python.pywrap_tensorflow_internal.GCluster,\n",
       " pyexpat.xmlparser,\n",
       " plistlib.Data,\n",
       " plistlib._PlistParser,\n",
       " plistlib._DumbXMLWriter,\n",
       " plistlib._BinaryPlistParser,\n",
       " plistlib._BinaryPlistWriter,\n",
       " pkg_resources.extern.VendorImporter,\n",
       " pkg_resources._vendor.six._LazyDescr,\n",
       " pkg_resources._vendor.six._SixMetaPathImporter,\n",
       " pkg_resources._vendor.six._LazyDescr,\n",
       " pkg_resources._vendor.six._SixMetaPathImporter,\n",
       " pkg_resources._vendor.appdirs.AppDirs,\n",
       " pkg_resources.extern.packaging._structures.Infinity,\n",
       " pkg_resources.extern.packaging._structures.NegativeInfinity,\n",
       " pkg_resources.extern.packaging.version._BaseVersion,\n",
       " pkg_resources.extern.packaging.specifiers.BaseSpecifier,\n",
       " pkg_resources._vendor.pyparsing._Constants,\n",
       " pkg_resources._vendor.pyparsing._ParseResultsWithOffset,\n",
       " pkg_resources._vendor.pyparsing.ParseResults,\n",
       " pkg_resources._vendor.pyparsing.ParserElement._UnboundedCache,\n",
       " pkg_resources._vendor.pyparsing.ParserElement._FifoCache,\n",
       " pkg_resources._vendor.pyparsing.ParserElement,\n",
       " pkg_resources._vendor.pyparsing._NullToken,\n",
       " pkg_resources._vendor.pyparsing.OnlyOnce,\n",
       " pkg_resources._vendor.pyparsing.pyparsing_common,\n",
       " pkg_resources.extern.packaging.markers.Node,\n",
       " pkg_resources.extern.packaging.markers.Marker,\n",
       " pkg_resources.extern.packaging.requirements.Requirement,\n",
       " pkg_resources.IMetadataProvider,\n",
       " pkg_resources.WorkingSet,\n",
       " pkg_resources.Environment,\n",
       " pkg_resources.ResourceManager,\n",
       " pkg_resources.NullProvider,\n",
       " pkg_resources.NoDists,\n",
       " pkg_resources.EntryPoint,\n",
       " pkg_resources.Distribution,\n",
       " google.protobuf.pyext._message.DescriptorBase,\n",
       " DescriptorMapping,\n",
       " DescriptorSequence,\n",
       " DescriptorContainerIterator,\n",
       " google.protobuf.pyext._message.DescriptorPool,\n",
       " google.protobuf.pyext._message.MessageFactory,\n",
       " google.protobuf.pyext._message.CMessage,\n",
       " google.protobuf.pyext._message.FieldProperty,\n",
       " google.protobuf.pyext._message.RepeatedScalarContainer,\n",
       " google.protobuf.pyext._message.RepeatedCompositeContainer,\n",
       " google.protobuf.pyext._message.PyUnknownFields,\n",
       " google.protobuf.pyext._message.PyUnknownFieldRef,\n",
       " google.protobuf.internal.containers.BaseContainer,\n",
       " google.protobuf.internal.containers._UnknownField,\n",
       " google.protobuf.internal.containers.UnknownFieldRef,\n",
       " google.protobuf.internal.containers.UnknownFieldSet,\n",
       " google.protobuf.pyext._message.MapIterator,\n",
       " google.protobuf.pyext._message.ExtensionDict,\n",
       " google.protobuf.internal.enum_type_wrapper.EnumTypeWrapper,\n",
       " google.protobuf.message.Message,\n",
       " google.protobuf.descriptor._Lock,\n",
       " google.protobuf.descriptor.DescriptorBase,\n",
       " google.protobuf.descriptor_database.DescriptorDatabase,\n",
       " google.protobuf.descriptor_pool.DescriptorPool,\n",
       " google.protobuf.message_factory.MessageFactory,\n",
       " google.protobuf.internal.well_known_types.Any,\n",
       " google.protobuf.internal.well_known_types.Timestamp,\n",
       " google.protobuf.internal.well_known_types.Duration,\n",
       " google.protobuf.internal.well_known_types.FieldMask,\n",
       " google.protobuf.internal.well_known_types._FieldMaskTree,\n",
       " google.protobuf.internal.well_known_types.Struct,\n",
       " google.protobuf.internal.well_known_types.ListValue,\n",
       " tensorflow.python.framework.device.DeviceSpec,\n",
       " tensorflow.python.framework.c_api_util.ScopedTFStatus,\n",
       " tensorflow.python.framework.c_api_util.ScopedTFGraph,\n",
       " tensorflow.python.framework.c_api_util.ScopedTFImportGraphDefOptions,\n",
       " tensorflow.python.framework.c_api_util.ScopedTFImportGraphDefResults,\n",
       " tensorflow.python.framework.c_api_util.ScopedTFFunction,\n",
       " tensorflow.python.framework.c_api_util.ApiDefMap,\n",
       " tensorflow.python.eager.context._EagerTensorCache,\n",
       " tensorflow.python.eager.context.FunctionCallOptions,\n",
       " tensorflow.python.eager.context.Context,\n",
       " tensorflow.python.framework.errors_impl.raise_exception_on_not_ok_status,\n",
       " tensorflow.python.eager.tape.Tape,\n",
       " tensorflow.python.framework.dtypes.DType,\n",
       " tensorflow.python.framework.registry.Registry,\n",
       " tensorflow.python.framework.tensor_shape.Dimension,\n",
       " tensorflow.python.framework.tensor_shape.TensorShapeV1,\n",
       " tensorflow.python.framework.traceable_stack.TraceableObject,\n",
       " tensorflow.python.framework.traceable_stack.TraceableStack,\n",
       " _csv.Dialect,\n",
       " _csv.reader,\n",
       " _csv.writer,\n",
       " csv.Dialect,\n",
       " ...]"
      ]
     },
     "execution_count": 89,
     "metadata": {},
     "output_type": "execute_result"
    }
   ],
   "source": [
    "object.__subclasses__()"
   ]
  },
  {
   "cell_type": "code",
   "execution_count": null,
   "metadata": {},
   "outputs": [],
   "source": []
  }
 ],
 "metadata": {
  "kernelspec": {
   "display_name": "Python 3",
   "language": "python",
   "name": "python3"
  },
  "language_info": {
   "codemirror_mode": {
    "name": "ipython",
    "version": 3
   },
   "file_extension": ".py",
   "mimetype": "text/x-python",
   "name": "python",
   "nbconvert_exporter": "python",
   "pygments_lexer": "ipython3",
   "version": "3.7.3"
  }
 },
 "nbformat": 4,
 "nbformat_minor": 2
}

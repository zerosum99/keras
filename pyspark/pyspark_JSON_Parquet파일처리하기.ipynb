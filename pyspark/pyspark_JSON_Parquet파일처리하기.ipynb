{
 "cells": [
  {
   "cell_type": "code",
   "execution_count": 2,
   "metadata": {},
   "outputs": [
    {
     "name": "stdout",
     "output_type": "stream",
     "text": [
      "/opt/spark\n"
     ]
    }
   ],
   "source": [
    "# %load requirements.txt\n",
    "\n",
    "import findspark\n",
    "findspark.init()\n",
    "\n",
    "import pyspark\n",
    "print(findspark.find())\n",
    "\n",
    "from pyspark import SparkContext, SparkConf\n",
    "\n",
    "conf = SparkConf().setMaster(\"local\").setAppName(\"Spark Practice\")\n",
    "\n",
    "sc = SparkContext(conf=conf)\n",
    "\n",
    "from pyspark.sql import SparkSession\n",
    "spark = SparkSession(sc)\n"
   ]
  },
  {
   "cell_type": "markdown",
   "metadata": {},
   "source": [
    "# 1. 문자열 파일 만들어서 처리하기"
   ]
  },
  {
   "cell_type": "code",
   "execution_count": 96,
   "metadata": {},
   "outputs": [],
   "source": [
    "employee =  ['{\"name\":\"Yin\",\"address\":{\"city\":\"Columbus\",\"state\":\"Ohio\"}}']"
   ]
  },
  {
   "cell_type": "code",
   "execution_count": 97,
   "metadata": {},
   "outputs": [],
   "source": [
    "employee_RDD = sc.parallelize(employee)"
   ]
  },
  {
   "cell_type": "code",
   "execution_count": 98,
   "metadata": {},
   "outputs": [
    {
     "name": "stdout",
     "output_type": "stream",
     "text": [
      "+----------------+----+\n",
      "|         address|name|\n",
      "+----------------+----+\n",
      "|[Columbus, Ohio]| Yin|\n",
      "+----------------+----+\n",
      "\n"
     ]
    }
   ],
   "source": [
    "employee = spark.read.json(employee_RDD)\n",
    "employee.show()"
   ]
  },
  {
   "cell_type": "code",
   "execution_count": 119,
   "metadata": {},
   "outputs": [
    {
     "name": "stdout",
     "output_type": "stream",
     "text": [
      "root\n",
      " |-- address: struct (nullable = true)\n",
      " |    |-- city: string (nullable = true)\n",
      " |    |-- state: string (nullable = true)\n",
      " |-- name: string (nullable = true)\n",
      "\n"
     ]
    }
   ],
   "source": [
    "employee.printSchema()"
   ]
  },
  {
   "cell_type": "markdown",
   "metadata": {},
   "source": [
    "# 2. JSON 파일 만들어서 처리하기"
   ]
  },
  {
   "cell_type": "code",
   "execution_count": 113,
   "metadata": {},
   "outputs": [
    {
     "name": "stdout",
     "output_type": "stream",
     "text": [
      "Overwriting employee.json\n"
     ]
    }
   ],
   "source": [
    "%%writefile employee.json \n",
    "{\"id\" : \"1201\", \"name\" : \"satish\",    \"age\" : \"25\"},\n",
    "{\"id\" : \"1202\", \"name\" : \"krishna\", \"age\" : \"28\"},\n",
    "{\"id\" : \"1203\", \"name\" : \"amith\",    \"age\" : \"39\"},\n",
    "{\"id\" : \"1204\", \"name\" : \"javed\",    \"age\" : \"23\"},\n",
    "{\"id\" : \"1205\", \"name\" : \"prudvi\",   \"age\" : \"23\"}"
   ]
  },
  {
   "cell_type": "code",
   "execution_count": 114,
   "metadata": {},
   "outputs": [],
   "source": [
    "dfs = spark.read.json(\"employee.json\")"
   ]
  },
  {
   "cell_type": "code",
   "execution_count": 115,
   "metadata": {},
   "outputs": [
    {
     "data": {
      "text/plain": [
       "DataFrame[age: string, id: string, name: string]"
      ]
     },
     "execution_count": 115,
     "metadata": {},
     "output_type": "execute_result"
    }
   ],
   "source": [
    "dfs"
   ]
  },
  {
   "cell_type": "code",
   "execution_count": 118,
   "metadata": {},
   "outputs": [
    {
     "name": "stdout",
     "output_type": "stream",
     "text": [
      "root\n",
      " |-- age: string (nullable = true)\n",
      " |-- id: string (nullable = true)\n",
      " |-- name: string (nullable = true)\n",
      "\n"
     ]
    }
   ],
   "source": [
    "dfs.printSchema()"
   ]
  },
  {
   "cell_type": "code",
   "execution_count": null,
   "metadata": {},
   "outputs": [],
   "source": []
  },
  {
   "cell_type": "code",
   "execution_count": 116,
   "metadata": {},
   "outputs": [
    {
     "data": {
      "text/plain": [
       "5"
      ]
     },
     "execution_count": 116,
     "metadata": {},
     "output_type": "execute_result"
    }
   ],
   "source": [
    "dfs.count()"
   ]
  },
  {
   "cell_type": "code",
   "execution_count": 117,
   "metadata": {},
   "outputs": [
    {
     "name": "stdout",
     "output_type": "stream",
     "text": [
      "+---+----+-------+\n",
      "|age|  id|   name|\n",
      "+---+----+-------+\n",
      "| 25|1201| satish|\n",
      "| 28|1202|krishna|\n",
      "| 39|1203|  amith|\n",
      "| 23|1204|  javed|\n",
      "| 23|1205| prudvi|\n",
      "+---+----+-------+\n",
      "\n"
     ]
    }
   ],
   "source": [
    "dfs.show()"
   ]
  },
  {
   "cell_type": "markdown",
   "metadata": {},
   "source": [
    "### 열 이름으로 조회하기"
   ]
  },
  {
   "cell_type": "code",
   "execution_count": 120,
   "metadata": {},
   "outputs": [
    {
     "name": "stdout",
     "output_type": "stream",
     "text": [
      "+-------+\n",
      "|   name|\n",
      "+-------+\n",
      "| satish|\n",
      "|krishna|\n",
      "|  amith|\n",
      "|  javed|\n",
      "| prudvi|\n",
      "+-------+\n",
      "\n"
     ]
    }
   ],
   "source": [
    "dfs.select(\"name\").show()"
   ]
  },
  {
   "cell_type": "code",
   "execution_count": 121,
   "metadata": {},
   "outputs": [
    {
     "name": "stdout",
     "output_type": "stream",
     "text": [
      "+-------+---+\n",
      "|   name|age|\n",
      "+-------+---+\n",
      "| satish| 25|\n",
      "|krishna| 28|\n",
      "|  amith| 39|\n",
      "|  javed| 23|\n",
      "| prudvi| 23|\n",
      "+-------+---+\n",
      "\n"
     ]
    }
   ],
   "source": [
    "dfs.select(\"name\",'age').show()"
   ]
  },
  {
   "cell_type": "code",
   "execution_count": 122,
   "metadata": {},
   "outputs": [
    {
     "name": "stdout",
     "output_type": "stream",
     "text": [
      "+----+-------+---+\n",
      "|  ID|   name|age|\n",
      "+----+-------+---+\n",
      "|1201| satish| 25|\n",
      "|1202|krishna| 28|\n",
      "|1203|  amith| 39|\n",
      "|1204|  javed| 23|\n",
      "|1205| prudvi| 23|\n",
      "+----+-------+---+\n",
      "\n"
     ]
    }
   ],
   "source": [
    "dfs.select('ID', \"name\",'age').show()"
   ]
  },
  {
   "cell_type": "markdown",
   "metadata": {},
   "source": [
    "## 필터링하기"
   ]
  },
  {
   "cell_type": "code",
   "execution_count": 125,
   "metadata": {},
   "outputs": [
    {
     "name": "stdout",
     "output_type": "stream",
     "text": [
      "+---+----+-------+\n",
      "|age|  id|   name|\n",
      "+---+----+-------+\n",
      "| 25|1201| satish|\n",
      "| 28|1202|krishna|\n",
      "| 39|1203|  amith|\n",
      "+---+----+-------+\n",
      "\n"
     ]
    }
   ],
   "source": [
    "dfs.filter(dfs.age > 23).show()"
   ]
  },
  {
   "cell_type": "code",
   "execution_count": 127,
   "metadata": {},
   "outputs": [
    {
     "name": "stdout",
     "output_type": "stream",
     "text": [
      "+---+----+-------+\n",
      "|age|  id|   name|\n",
      "+---+----+-------+\n",
      "| 25|1201| satish|\n",
      "| 28|1202|krishna|\n",
      "| 39|1203|  amith|\n",
      "+---+----+-------+\n",
      "\n"
     ]
    }
   ],
   "source": [
    "dfs.filter(\"age > 23\").show()"
   ]
  },
  {
   "cell_type": "markdown",
   "metadata": {},
   "source": [
    "## 그룹화하기"
   ]
  },
  {
   "cell_type": "code",
   "execution_count": 126,
   "metadata": {},
   "outputs": [
    {
     "name": "stdout",
     "output_type": "stream",
     "text": [
      "+---+-----+\n",
      "|age|count|\n",
      "+---+-----+\n",
      "| 28|    1|\n",
      "| 23|    2|\n",
      "| 25|    1|\n",
      "| 39|    1|\n",
      "+---+-----+\n",
      "\n"
     ]
    }
   ],
   "source": [
    "dfs.groupBy(\"age\").count().show()"
   ]
  },
  {
   "cell_type": "markdown",
   "metadata": {},
   "source": [
    "# 3. parquet 파일 만들기"
   ]
  },
  {
   "cell_type": "code",
   "execution_count": 129,
   "metadata": {},
   "outputs": [],
   "source": [
    "dfs.write.parquet(\"employee.parquet\")"
   ]
  },
  {
   "cell_type": "code",
   "execution_count": 131,
   "metadata": {},
   "outputs": [],
   "source": [
    "parqfile = spark.read.parquet(\"employee.parquet\")"
   ]
  },
  {
   "cell_type": "code",
   "execution_count": 132,
   "metadata": {},
   "outputs": [
    {
     "data": {
      "text/plain": [
       "DataFrame[age: string, id: string, name: string]"
      ]
     },
     "execution_count": 132,
     "metadata": {},
     "output_type": "execute_result"
    }
   ],
   "source": [
    "parqfile"
   ]
  },
  {
   "cell_type": "code",
   "execution_count": 133,
   "metadata": {},
   "outputs": [
    {
     "name": "stdout",
     "output_type": "stream",
     "text": [
      "root\n",
      " |-- age: string (nullable = true)\n",
      " |-- id: string (nullable = true)\n",
      " |-- name: string (nullable = true)\n",
      "\n"
     ]
    }
   ],
   "source": [
    "parqfile.printSchema()"
   ]
  },
  {
   "cell_type": "code",
   "execution_count": 134,
   "metadata": {},
   "outputs": [
    {
     "data": {
      "text/plain": [
       "5"
      ]
     },
     "execution_count": 134,
     "metadata": {},
     "output_type": "execute_result"
    }
   ],
   "source": [
    "parqfile.count()"
   ]
  },
  {
   "cell_type": "markdown",
   "metadata": {},
   "source": [
    "## 임시 테이블로 전환해서 sql 처리하기 "
   ]
  },
  {
   "cell_type": "code",
   "execution_count": 136,
   "metadata": {},
   "outputs": [],
   "source": [
    "parqfile.createOrReplaceTempView(\"employee\")"
   ]
  },
  {
   "cell_type": "code",
   "execution_count": 140,
   "metadata": {},
   "outputs": [
    {
     "name": "stdout",
     "output_type": "stream",
     "text": [
      "+---+----+-------+\n",
      "|age|  id|   name|\n",
      "+---+----+-------+\n",
      "| 25|1201| satish|\n",
      "| 28|1202|krishna|\n",
      "| 39|1203|  amith|\n",
      "| 23|1204|  javed|\n",
      "| 23|1205| prudvi|\n",
      "+---+----+-------+\n",
      "\n"
     ]
    }
   ],
   "source": [
    "spark.sql(\"SeleCT * FROM employee\").show()"
   ]
  },
  {
   "cell_type": "code",
   "execution_count": 141,
   "metadata": {},
   "outputs": [
    {
     "name": "stdout",
     "output_type": "stream",
     "text": [
      "+---+----+-------+\n",
      "|age|  id|   name|\n",
      "+---+----+-------+\n",
      "| 25|1201| satish|\n",
      "| 28|1202|krishna|\n",
      "| 39|1203|  amith|\n",
      "| 23|1204|  javed|\n",
      "| 23|1205| prudvi|\n",
      "+---+----+-------+\n",
      "\n"
     ]
    }
   ],
   "source": [
    "parqfile.select(\"age\", \"id\",\"name\").show()"
   ]
  },
  {
   "cell_type": "code",
   "execution_count": 142,
   "metadata": {},
   "outputs": [
    {
     "name": "stdout",
     "output_type": "stream",
     "text": [
      "+---+----+-------+\n",
      "|age|  id|   name|\n",
      "+---+----+-------+\n",
      "| 25|1201| satish|\n",
      "| 28|1202|krishna|\n",
      "| 39|1203|  amith|\n",
      "| 23|1204|  javed|\n",
      "| 23|1205| prudvi|\n",
      "+---+----+-------+\n",
      "\n"
     ]
    }
   ],
   "source": [
    "parqfile.select(\"*\").show()"
   ]
  },
  {
   "cell_type": "markdown",
   "metadata": {},
   "source": [
    "###  기술통계 요약표"
   ]
  },
  {
   "cell_type": "code",
   "execution_count": 144,
   "metadata": {},
   "outputs": [
    {
     "name": "stdout",
     "output_type": "stream",
     "text": [
      "+-------+------------------+------------------+------+\n",
      "|summary|               age|                id|  name|\n",
      "+-------+------------------+------------------+------+\n",
      "|  count|                 5|                 5|     5|\n",
      "|   mean|              27.6|            1203.0|  null|\n",
      "| stddev|6.6932802122726045|1.5811388300841898|  null|\n",
      "|    min|                23|              1201| amith|\n",
      "|    25%|              23.0|            1202.0|  null|\n",
      "|    50%|              25.0|            1203.0|  null|\n",
      "|    75%|              28.0|            1204.0|  null|\n",
      "|    max|                39|              1205|satish|\n",
      "+-------+------------------+------------------+------+\n",
      "\n"
     ]
    }
   ],
   "source": [
    "parqfile.summary().show()"
   ]
  },
  {
   "cell_type": "markdown",
   "metadata": {},
   "source": [
    "### 첫번째 행을 읽어오기"
   ]
  },
  {
   "cell_type": "code",
   "execution_count": 145,
   "metadata": {},
   "outputs": [
    {
     "data": {
      "text/plain": [
       "Row(age='25', id='1201', name='satish')"
      ]
     },
     "execution_count": 145,
     "metadata": {},
     "output_type": "execute_result"
    }
   ],
   "source": [
    "parqfile.head()"
   ]
  },
  {
   "cell_type": "code",
   "execution_count": 147,
   "metadata": {},
   "outputs": [
    {
     "data": {
      "text/plain": [
       "[Row(age='25', id='1201', name='satish')]"
      ]
     },
     "execution_count": 147,
     "metadata": {},
     "output_type": "execute_result"
    }
   ],
   "source": [
    "parqfile.take(1)"
   ]
  },
  {
   "cell_type": "code",
   "execution_count": null,
   "metadata": {},
   "outputs": [],
   "source": []
  }
 ],
 "metadata": {
  "kernelspec": {
   "display_name": "Python 3",
   "language": "python",
   "name": "python3"
  },
  "language_info": {
   "codemirror_mode": {
    "name": "ipython",
    "version": 3
   },
   "file_extension": ".py",
   "mimetype": "text/x-python",
   "name": "python",
   "nbconvert_exporter": "python",
   "pygments_lexer": "ipython3",
   "version": "3.7.4"
  }
 },
 "nbformat": 4,
 "nbformat_minor": 2
}

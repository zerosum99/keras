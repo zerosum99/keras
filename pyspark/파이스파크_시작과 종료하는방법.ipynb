{
 "cells": [
  {
   "cell_type": "markdown",
   "metadata": {},
   "source": [
    "## 외부의 파이스파크 불러오기"
   ]
  },
  {
   "cell_type": "code",
   "execution_count": 1,
   "metadata": {},
   "outputs": [
    {
     "data": {
      "text/plain": [
       "'C:\\\\spark\\\\spark-2.4.4-bin-hadoop2.7'"
      ]
     },
     "execution_count": 1,
     "metadata": {},
     "output_type": "execute_result"
    }
   ],
   "source": [
    "import findspark\n",
    "findspark.init()\n",
    "\n",
    "import pyspark\n",
    "findspark.find()"
   ]
  },
  {
   "cell_type": "code",
   "execution_count": 2,
   "metadata": {},
   "outputs": [],
   "source": [
    "sc = None"
   ]
  },
  {
   "cell_type": "code",
   "execution_count": null,
   "metadata": {},
   "outputs": [],
   "source": []
  },
  {
   "cell_type": "code",
   "execution_count": null,
   "metadata": {},
   "outputs": [],
   "source": []
  },
  {
   "cell_type": "code",
   "execution_count": null,
   "metadata": {},
   "outputs": [],
   "source": []
  },
  {
   "cell_type": "markdown",
   "metadata": {},
   "source": [
    "# 1. Spark application 실행 과정\n",
    "\n",
    "Spark application : 클러스터에서 독립된 프로세스들의 묶음으로 동작하며, 메인 프로그램(driver Program)의 SparkContext object에 의해서 조정된다.\n",
    " - 1. Driver Program(프로세스)가 main을 실행시키며 SparkContext 생성한다.\n",
    " - 2. SparkContext가 Cluster Manager에 연결된다.\n",
    " - 3. 연결되면, 클러스터 내의 Executor를 할당받는다.\n",
    " - 4. SparkContext가 application code(SparkContext에 전달된 Jar 또는 Python file)를 executor에 보낸다.\n",
    " - 5. SparkContext가 실행할 task를 executor에 보낸다.\n",
    "         => 요약 : SparkContext가 클러스터 매니저에 연결해서 자원(executor) 할당받고, 할당받은 자원에 사용할 라이브러리 보내고, 실행할 task를 넘긴다."
   ]
  },
  {
   "cell_type": "code",
   "execution_count": 9,
   "metadata": {},
   "outputs": [],
   "source": [
    "## 필요한 라이브러리를 불러옵니다. \n",
    "import time\n",
    "import matplotlib.pyplot as plt\n",
    "import numpy as np \n",
    "import pandas as pd\n",
    "## pyspark를 불러옵니다.\n",
    "from pyspark import SparkContext\n",
    "\n",
    "## 이미 spark context가 살아 있으면 죽이고, 있으면 그대로 사용합니다. \n",
    "## spark context는 한 번에 여러 개 돌리려면 세팅에 몇 개를 추가해야 하는것 같아요. \n",
    "## 또한 스파크 컨텍스트를 제대로 구현하려면 여기에 넘겨야 하는 값들이 많이 있습니다만, 저는 테스트만 하려고 해서 이걸 대충 세팅했습니다. \n",
    "if sc is None: \n",
    "    sc = SparkContext(master=\"local\", appName=\"first app\")\n",
    "else:\n",
    "    sc.stop()\n",
    "    sc = SparkContext(master=\"local\", appName=\"first app\")"
   ]
  },
  {
   "cell_type": "code",
   "execution_count": 10,
   "metadata": {},
   "outputs": [
    {
     "data": {
      "text/html": [
       "\n",
       "        <div>\n",
       "            <p><b>SparkContext</b></p>\n",
       "\n",
       "            <p><a href=\"http://121.190.85.58:4040\">Spark UI</a></p>\n",
       "\n",
       "            <dl>\n",
       "              <dt>Version</dt>\n",
       "                <dd><code>v2.4.4</code></dd>\n",
       "              <dt>Master</dt>\n",
       "                <dd><code>local</code></dd>\n",
       "              <dt>AppName</dt>\n",
       "                <dd><code>first app</code></dd>\n",
       "            </dl>\n",
       "        </div>\n",
       "        "
      ],
      "text/plain": [
       "<SparkContext master=local appName=first app>"
      ]
     },
     "execution_count": 10,
     "metadata": {},
     "output_type": "execute_result"
    }
   ],
   "source": [
    "sc"
   ]
  },
  {
   "cell_type": "code",
   "execution_count": 5,
   "metadata": {},
   "outputs": [],
   "source": [
    "## 이미 spark context가 살아 있으면 죽이고, 있으면 그대로 사용합니다. \n",
    "## spark context는 한 번에 여러 개 돌리려면 세팅에 몇 개를 추가해야 하는것 같아요. \n",
    "## 또한 스파크 컨텍스트를 제대로 구현하려면 여기에 넘겨야 하는 값들이 많이 있습니다만, 저는 테스트만 하려고 해서 이걸 대충 세팅했습니다. \n",
    "if sc is None: \n",
    "    sc = SparkContext(master=\"local\", appName=\"first app\")\n",
    "else:\n",
    "    sc.stop()\n",
    "    sc = SparkContext(master=\"local\", appName=\"first app\")"
   ]
  },
  {
   "cell_type": "code",
   "execution_count": 6,
   "metadata": {},
   "outputs": [
    {
     "data": {
      "text/html": [
       "\n",
       "        <div>\n",
       "            <p><b>SparkContext</b></p>\n",
       "\n",
       "            <p><a href=\"http://121.190.85.58:4040\">Spark UI</a></p>\n",
       "\n",
       "            <dl>\n",
       "              <dt>Version</dt>\n",
       "                <dd><code>v2.4.4</code></dd>\n",
       "              <dt>Master</dt>\n",
       "                <dd><code>local</code></dd>\n",
       "              <dt>AppName</dt>\n",
       "                <dd><code>first app</code></dd>\n",
       "            </dl>\n",
       "        </div>\n",
       "        "
      ],
      "text/plain": [
       "<SparkContext master=local appName=first app>"
      ]
     },
     "execution_count": 6,
     "metadata": {},
     "output_type": "execute_result"
    }
   ],
   "source": [
    "sc"
   ]
  },
  {
   "cell_type": "code",
   "execution_count": 13,
   "metadata": {},
   "outputs": [],
   "source": [
    "### peformance check \n",
    "spark_time_lst = []\n",
    "python_time_lst = []\n",
    "python_np_time_lst = []\n",
    "n_lst = [20000*i for i in range(0, 10)]"
   ]
  },
  {
   "cell_type": "code",
   "execution_count": 16,
   "metadata": {},
   "outputs": [
    {
     "name": "stdout",
     "output_type": "stream",
     "text": [
      " ============= 0 ==================\n",
      " ============= 20000 ==================\n",
      " ============= 40000 ==================\n",
      " ============= 60000 ==================\n",
      " ============= 80000 ==================\n",
      " ============= 100000 ==================\n",
      " ============= 120000 ==================\n",
      " ============= 140000 ==================\n",
      " ============= 160000 ==================\n",
      " ============= 180000 ==================\n"
     ]
    }
   ],
   "source": [
    "for n in n_lst:\n",
    "    def each_k(k):\n",
    "        return 1//(16**k)*( 4//(8*k+1) - 2//(8*k+4) - 1//(8*k+5) - 1//(8*k+6))\n",
    "    \n",
    "    ## pure python\n",
    "    start_time = time.time()\n",
    "    pi_approximated = sum((each_k(k) for k in range(0, n)))\n",
    "    python_time_lst.append(time.time()-start_time)\n",
    "    \n",
    "    print(\" ============= %d ==================\" % (n))\n"
   ]
  },
  {
   "cell_type": "code",
   "execution_count": 17,
   "metadata": {},
   "outputs": [
    {
     "name": "stdout",
     "output_type": "stream",
     "text": [
      " ============= 0 ==================\n",
      " ============= 20000 ==================\n",
      " ============= 40000 ==================\n",
      " ============= 60000 ==================\n",
      " ============= 80000 ==================\n",
      " ============= 100000 ==================\n",
      " ============= 120000 ==================\n",
      " ============= 140000 ==================\n",
      " ============= 160000 ==================\n",
      " ============= 180000 ==================\n"
     ]
    },
    {
     "name": "stderr",
     "output_type": "stream",
     "text": [
      "C:\\Users\\dahlmoon\\Anaconda3\\lib\\site-packages\\ipykernel_launcher.py:3: RuntimeWarning: divide by zero encountered in floor_divide\n",
      "  This is separate from the ipykernel package so we can avoid doing imports until\n"
     ]
    }
   ],
   "source": [
    "\n",
    "\n",
    "for n in n_lst:\n",
    "    def each_k(k):\n",
    "        return 1//(16**k)*( 4//(8*k+1) - 2//(8*k+4) - 1//(8*k+5) - 1//(8*k+6))\n",
    "    \n",
    "\n",
    "    ## with numpy \n",
    "    start_time = time.time()\n",
    "    pi_approximated = np.apply_along_axis(arr=np.array(range(0, 10)), func1d=each_k, axis=0).sum()\n",
    "    python_np_time_lst.append(time.time() - start_time)\n",
    "    \n",
    "    print(\" ============= %d ==================\" % (n))\n",
    "\n"
   ]
  },
  {
   "cell_type": "code",
   "execution_count": 19,
   "metadata": {},
   "outputs": [
    {
     "name": "stdout",
     "output_type": "stream",
     "text": [
      " ============= 0 ==================\n",
      " ============= 20000 ==================\n",
      " ============= 40000 ==================\n",
      " ============= 60000 ==================\n",
      " ============= 80000 ==================\n",
      " ============= 100000 ==================\n",
      " ============= 120000 ==================\n",
      " ============= 140000 ==================\n",
      " ============= 160000 ==================\n",
      " ============= 180000 ==================\n"
     ]
    }
   ],
   "source": [
    "\n",
    "for n in n_lst:\n",
    "    def each_k(k):\n",
    "        return 1//(16**k)*( 4//(8*k+1) - 2//(8*k+4) - 1//(8*k+5) - 1//(8*k+6))\n",
    "    \n",
    "    \n",
    "    ## with spark \n",
    "    start_time = time.time()\n",
    "    pi_approximated = sc.parallelize(range(0, n)).map(each_k).sum()\n",
    "    spark_time_lst.append(time.time()-start_time)\n",
    "    print(\" ============= %d ==================\" % (n))\n"
   ]
  },
  {
   "cell_type": "code",
   "execution_count": null,
   "metadata": {},
   "outputs": [],
   "source": []
  },
  {
   "cell_type": "code",
   "execution_count": 23,
   "metadata": {},
   "outputs": [
    {
     "data": {
      "text/plain": [
       "[0.7266221046447754,\n",
       " 1.9028818607330322,\n",
       " 6.522260665893555,\n",
       " 14.782626390457153,\n",
       " 26.35537815093994,\n",
       " 41.08754086494446,\n",
       " 61.39430904388428,\n",
       " 83.82082414627075,\n",
       " 108.2252094745636,\n",
       " 136.98884224891663]"
      ]
     },
     "execution_count": 23,
     "metadata": {},
     "output_type": "execute_result"
    }
   ],
   "source": [
    "spark_time_lst"
   ]
  },
  {
   "cell_type": "code",
   "execution_count": 24,
   "metadata": {},
   "outputs": [
    {
     "data": {
      "text/plain": [
       "[0.0,\n",
       " 1.4216716289520264,\n",
       " 6.0897979736328125,\n",
       " 14.340341329574585,\n",
       " 0.0,\n",
       " 1.4272282123565674,\n",
       " 6.116169214248657,\n",
       " 14.346246242523193,\n",
       " 25.580539226531982,\n",
       " 0.0,\n",
       " 1.4282145500183105,\n",
       " 6.084844350814819,\n",
       " 14.361341714859009,\n",
       " 25.569794178009033,\n",
       " 40.34349036216736,\n",
       " 60.041353702545166,\n",
       " 83.73701429367065,\n",
       " 106.88193964958191,\n",
       " 135.73500180244446]"
      ]
     },
     "execution_count": 24,
     "metadata": {},
     "output_type": "execute_result"
    }
   ],
   "source": [
    "python_time_lst"
   ]
  },
  {
   "cell_type": "code",
   "execution_count": 25,
   "metadata": {},
   "outputs": [
    {
     "data": {
      "text/plain": [
       "[0.0009975433349609375, 0.0, 0.0, 0.0, 0.0, 0.0, 0.0, 0.0, 0.0, 0.0]"
      ]
     },
     "execution_count": 25,
     "metadata": {},
     "output_type": "execute_result"
    }
   ],
   "source": [
    "python_np_time_lst"
   ]
  },
  {
   "cell_type": "code",
   "execution_count": 20,
   "metadata": {},
   "outputs": [],
   "source": [
    "%matplotlib inline"
   ]
  },
  {
   "cell_type": "code",
   "execution_count": 28,
   "metadata": {},
   "outputs": [
    {
     "name": "stderr",
     "output_type": "stream",
     "text": [
      "No handles with labels found to put in legend.\n"
     ]
    },
    {
     "data": {
      "image/png": "[encoded data removed]",
      "text/plain": [
       "<Figure size 864x432 with 1 Axes>"
      ]
     },
     "metadata": {
      "needs_background": "light"
     },
     "output_type": "display_data"
    }
   ],
   "source": [
    "### plotting     \n",
    "df = pd.DataFrame({\n",
    "    \"spark\":spark_time_lst.copy(), \n",
    "    #\"pure python\":python_time_lst.copy(), \n",
    "    \"python with numpy\":python_np_time_lst.copy()\n",
    "}, index = [20000*i for i in range(0, 10)])\n",
    "plt.figure(figsize=(12, 6))\n",
    "plt.plot(df['spark'], 'ro-'), plt.plot(df['python with numpy'], 'go-') #, plt.plot(df['pure python'], 'bo-'),\n",
    "plt.legend(fontsize=25)\n",
    "#plt.xticks([20000*i for i in range(0, 10)], [20000*i for i in range(0, 10)])\n",
    "\n",
    "plt.show()"
   ]
  },
  {
   "cell_type": "code",
   "execution_count": null,
   "metadata": {},
   "outputs": [],
   "source": []
  }
 ],
 "metadata": {
  "kernelspec": {
   "display_name": "Python 3",
   "language": "python",
   "name": "python3"
  },
  "language_info": {
   "codemirror_mode": {
    "name": "ipython",
    "version": 3
   },
   "file_extension": ".py",
   "mimetype": "text/x-python",
   "name": "python",
   "nbconvert_exporter": "python",
   "pygments_lexer": "ipython3",
   "version": "3.7.3"
  }
 },
 "nbformat": 4,
 "nbformat_minor": 2
}
